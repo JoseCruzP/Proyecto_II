{
  "nbformat": 4,
  "nbformat_minor": 0,
  "metadata": {
    "colab": {
      "provenance": []
    },
    "kernelspec": {
      "name": "python3",
      "display_name": "Python 3"
    },
    "language_info": {
      "name": "python"
    }
  },
  "cells": [
    {
      "cell_type": "markdown",
      "source": [
        "# **Extracción, Transformación y Carga (ETL) - Dataset: Telefonía Móvil**"
      ],
      "metadata": {
        "id": "JJeVxpGFEGVq"
      }
    },
    {
      "cell_type": "markdown",
      "source": [
        "Se hará el proceso de ETL para el dataset \"Telefonía Móvil\" del proyecto de Data Analyst en telecomunicaciones. Se inicia priorizando cuáles de las 7 hojas del dataset son relevantes para el proyecto."
      ],
      "metadata": {
        "id": "i4Ufoj1TEY3c"
      }
    },
    {
      "cell_type": "markdown",
      "source": [
        "## **1. Hojas relevantes**"
      ],
      "metadata": {
        "id": "g4W6t4G1Eh9n"
      }
    },
    {
      "cell_type": "markdown",
      "source": [
        "Luego de una revisión se considera que para el fin del proyecto, el cual es la realización de un análisis completo que permita reconocer el comportamiento del sector de las telecomunicaciones a nivel nacional, solamente se tendrán en cuentas algunas páginas de el dataset de \"Telefonía móvil\".\n",
        "\n",
        "* **Accesos:** Esta hoja es útil porque muestra la cantidad de accesos pospago y prepago, lo que nos podría dar una idea de la penetración del servicio en la población. Esto permitiría entender cuántos usuarios utilizan los servicios móviles, una métrica clave para evaluar el crecimiento del mercado.\n",
        "\n",
        "* **Minutos salientes:** El análisis de los minutos de llamadas salientes permitiría observar los patrones de consumo y uso del servicio móvil. Esto permitirá detectar tendencias en el uso del servicio de llamadas y cómo han cambiado con el tiempo, particularmente entre usuarios de pospago y prepago.\n",
        "\n",
        "* **Ingresos:** Los ingresos generados por los servicios de telefonía móvil son una métrica clave para entender el impacto económico del sector. Esto nos permitirá correlacionar el uso de los servicios (llamadas, SMS, accesos) con los ingresos generados, proporcionando una visión clara del rendimiento financiero del sector."
      ],
      "metadata": {
        "id": "DyvSXNiNEivB"
      }
    },
    {
      "cell_type": "markdown",
      "source": [
        "## **2. Carga de la base de datos**"
      ],
      "metadata": {
        "id": "x79GLcuIFP5k"
      }
    },
    {
      "cell_type": "code",
      "source": [
        "import pandas as pd\n",
        "\n",
        "# Cargamos el dataset\n",
        "datos = '/content/telefonia_movil.xlsx'"
      ],
      "metadata": {
        "id": "0c7thbusFRcp"
      },
      "execution_count": null,
      "outputs": []
    },
    {
      "cell_type": "code",
      "source": [
        "# Seleccionamos las hojas\n",
        "hojas = ['Accesos', 'Minutos salientes', 'Ingresos']"
      ],
      "metadata": {
        "id": "uaiRmDpSF7bk"
      },
      "execution_count": null,
      "outputs": []
    },
    {
      "cell_type": "code",
      "source": [
        "# Cargamos cada hoja en un diccionario de DataFrames\n",
        "dataframes_hojas = {hoja: pd.read_excel(datos, sheet_name=hoja) for hoja in hojas}"
      ],
      "metadata": {
        "id": "WEKaHVQZGddo"
      },
      "execution_count": null,
      "outputs": []
    },
    {
      "cell_type": "code",
      "source": [
        "# Exploramos la estructura de los datos cargados\n",
        "for hoja, df in dataframes_hojas.items():\n",
        "    print(\"###################################################################\")\n",
        "    print(f\"Hoja: {hoja}\")\n",
        "    print(\"###################################################################\")\n",
        "    print(df.info())\n",
        "    print(\"###################################################################\")\n",
        "    print(df.head())"
      ],
      "metadata": {
        "colab": {
          "base_uri": "https://localhost:8080/"
        },
        "id": "fOyWi3ktGggR",
        "outputId": "f2a1707e-7d13-429e-8e7c-6d65b5f8c2e0"
      },
      "execution_count": null,
      "outputs": [
        {
          "output_type": "stream",
          "name": "stdout",
          "text": [
            "###################################################################\n",
            "Hoja: Accesos\n",
            "###################################################################\n",
            "<class 'pandas.core.frame.DataFrame'>\n",
            "RangeIndex: 45 entries, 0 to 44\n",
            "Data columns (total 6 columns):\n",
            " #   Column                       Non-Null Count  Dtype  \n",
            "---  ------                       --------------  -----  \n",
            " 0   Año                          45 non-null     int64  \n",
            " 1   Trimestre                    45 non-null     int64  \n",
            " 2   Total de accesos pospago     45 non-null     float64\n",
            " 3   Total de accesos prepago     45 non-null     float64\n",
            " 4   Total de accesos operativos  45 non-null     int64  \n",
            " 5   Periodo                      45 non-null     object \n",
            "dtypes: float64(2), int64(3), object(1)\n",
            "memory usage: 2.2+ KB\n",
            "None\n",
            "###################################################################\n",
            "    Año  Trimestre  Total de accesos pospago  Total de accesos prepago  \\\n",
            "0  2013          1                 7761349.0                57147608.0   \n",
            "1  2013          2                 7769110.0                58004822.0   \n",
            "2  2013          3                 8002183.0                59048909.0   \n",
            "3  2013          4                 8674516.0                58894516.0   \n",
            "4  2014          1                 8224482.0                54725089.0   \n",
            "\n",
            "   Total de accesos operativos        Periodo  \n",
            "0                     64908957   Ene-Mar 2013  \n",
            "1                     65773932   Abr-Jun 2013  \n",
            "2                     67051092  Jul-Sept 2013  \n",
            "3                     67569032   Oct-Dic 2013  \n",
            "4                     62949571   Ene-Mar 2013  \n",
            "###################################################################\n",
            "Hoja: Minutos salientes\n",
            "###################################################################\n",
            "<class 'pandas.core.frame.DataFrame'>\n",
            "RangeIndex: 45 entries, 0 to 44\n",
            "Data columns (total 6 columns):\n",
            " #   Column                              Non-Null Count  Dtype  \n",
            "---  ------                              --------------  -----  \n",
            " 0   Año                                 45 non-null     int64  \n",
            " 1   Trimestre                           45 non-null     int64  \n",
            " 2   Minutos pospago salientes (miles)   45 non-null     float64\n",
            " 3   Minutos prepago salientes (miles)   45 non-null     float64\n",
            " 4   Total de minutos salientes (miles)  45 non-null     float64\n",
            " 5   Periodo                             45 non-null     object \n",
            "dtypes: float64(3), int64(2), object(1)\n",
            "memory usage: 2.2+ KB\n",
            "None\n",
            "###################################################################\n",
            "    Año  Trimestre  Minutos pospago salientes (miles)  \\\n",
            "0  2013          1                          8785943.0   \n",
            "1  2013          2                          9512689.0   \n",
            "2  2013          3                         10315484.0   \n",
            "3  2013          4                          9809515.0   \n",
            "4  2014          1                         10128751.0   \n",
            "\n",
            "   Minutos prepago salientes (miles)  Total de minutos salientes (miles)  \\\n",
            "0                          6582117.0                          15368060.0   \n",
            "1                          7108640.0                          16621329.0   \n",
            "2                          7335154.0                          17650638.0   \n",
            "3                          6250549.0                          16060064.0   \n",
            "4                          5799223.0                          15927974.0   \n",
            "\n",
            "         Periodo  \n",
            "0   Ene-Mar 2013  \n",
            "1   Abr-Jun 2013  \n",
            "2  Jul-Sept 2013  \n",
            "3   Oct-Dic 2013  \n",
            "4   Ene-Mar 2013  \n",
            "###################################################################\n",
            "Hoja: Ingresos\n",
            "###################################################################\n",
            "<class 'pandas.core.frame.DataFrame'>\n",
            "RangeIndex: 45 entries, 0 to 44\n",
            "Data columns (total 4 columns):\n",
            " #   Column                 Non-Null Count  Dtype \n",
            "---  ------                 --------------  ----- \n",
            " 0   Año                    45 non-null     int64 \n",
            " 1   Trimestre              45 non-null     int64 \n",
            " 2   Ingresos (miles de $)  45 non-null     int64 \n",
            " 3   Periodo                45 non-null     object\n",
            "dtypes: int64(3), object(1)\n",
            "memory usage: 1.5+ KB\n",
            "None\n",
            "###################################################################\n",
            "    Año  Trimestre  Ingresos (miles de $)        Periodo\n",
            "0  2013          1               13135235   Ene-Mar 2013\n",
            "1  2013          2               13970806   Abr-Jun 2013\n",
            "2  2013          3               15235659  Jul-Sept 2013\n",
            "3  2013          4               16218846   Oct-Dic 2013\n",
            "4  2014          1               15938353   Ene-Mar 2013\n"
          ]
        }
      ]
    },
    {
      "cell_type": "markdown",
      "source": [
        "## **3. Datos faltantes**"
      ],
      "metadata": {
        "id": "OTJWqeX7HEHT"
      }
    },
    {
      "cell_type": "markdown",
      "source": [
        "Procedemos a identificar las columnas con valores faltantes y decidir cómo tratarlos (imputación, eliminación, etc.)."
      ],
      "metadata": {
        "id": "AJZNT_jTHE5a"
      }
    },
    {
      "cell_type": "code",
      "source": [
        "# Verificamos los datos faltantes en cada hoja\n",
        "for hoja, df in dataframes_hojas.items():\n",
        "    print(f\"Datos faltantes en la hoja: {hoja}\")\n",
        "    print(df.isnull().sum())\n",
        "    print(\"###################################################################\")"
      ],
      "metadata": {
        "colab": {
          "base_uri": "https://localhost:8080/"
        },
        "id": "ThsZUbu7HIRr",
        "outputId": "095997e5-dec7-47fc-cf00-6cccf194a8e6"
      },
      "execution_count": null,
      "outputs": [
        {
          "output_type": "stream",
          "name": "stdout",
          "text": [
            "Datos faltantes en la hoja: Accesos\n",
            "Año                            0\n",
            "Trimestre                      0\n",
            "Total de accesos pospago       0\n",
            "Total de accesos prepago       0\n",
            "Total de accesos operativos    0\n",
            "Periodo                        0\n",
            "dtype: int64\n",
            "###################################################################\n",
            "Datos faltantes en la hoja: Minutos salientes\n",
            "Año                                   0\n",
            "Trimestre                             0\n",
            "Minutos pospago salientes (miles)     0\n",
            "Minutos prepago salientes (miles)     0\n",
            "Total de minutos salientes (miles)    0\n",
            "Periodo                               0\n",
            "dtype: int64\n",
            "###################################################################\n",
            "Datos faltantes en la hoja: Ingresos\n",
            "Año                      0\n",
            "Trimestre                0\n",
            "Ingresos (miles de $)    0\n",
            "Periodo                  0\n",
            "dtype: int64\n",
            "###################################################################\n"
          ]
        }
      ]
    },
    {
      "cell_type": "markdown",
      "source": [
        "Como podemos apreciar, no tenemos datos faltantes en ninguna de las tres hojas del dataset."
      ],
      "metadata": {
        "id": "VkBb7slGHYyF"
      }
    },
    {
      "cell_type": "markdown",
      "source": [
        "## **4. Datos duplicados**"
      ],
      "metadata": {
        "id": "9ZmsXu7EHmgS"
      }
    },
    {
      "cell_type": "markdown",
      "source": [
        "Primero identificaremos si existen datos duplicados en cada hoja. En caso de encontralos procederemos a eliminarlos."
      ],
      "metadata": {
        "id": "qIMo9-wvHt2j"
      }
    },
    {
      "cell_type": "code",
      "source": [
        "# Verificamos y eliminamos duplicados en cada hoja\n",
        "for hoja, df in dataframes_hojas.items():\n",
        "    print(f\"Antes de eliminar duplicados en {hoja}: {df.duplicated().sum()} filas duplicadas\")\n",
        "\n",
        "    # Eliminar duplicados\n",
        "    df.drop_duplicates(inplace=True)\n",
        "\n",
        "    print(f\"Después de eliminar duplicados en {hoja}: {df.duplicated().sum()} filas duplicadas\")\n",
        "    print(\"###################################################################\")"
      ],
      "metadata": {
        "colab": {
          "base_uri": "https://localhost:8080/"
        },
        "id": "cKvijV6-Hup3",
        "outputId": "0590be2a-27fc-4e51-b06c-ba593f318a2c"
      },
      "execution_count": null,
      "outputs": [
        {
          "output_type": "stream",
          "name": "stdout",
          "text": [
            "Antes de eliminar duplicados en Accesos: 0 filas duplicadas\n",
            "Después de eliminar duplicados en Accesos: 0 filas duplicadas\n",
            "###################################################################\n",
            "Antes de eliminar duplicados en Minutos salientes: 0 filas duplicadas\n",
            "Después de eliminar duplicados en Minutos salientes: 0 filas duplicadas\n",
            "###################################################################\n",
            "Antes de eliminar duplicados en Ingresos: 0 filas duplicadas\n",
            "Después de eliminar duplicados en Ingresos: 0 filas duplicadas\n",
            "###################################################################\n"
          ]
        }
      ]
    },
    {
      "cell_type": "markdown",
      "source": [
        "Como podemos apreciar, no habían datos duplicados."
      ],
      "metadata": {
        "id": "3VKxD_LzH7Fh"
      }
    },
    {
      "cell_type": "markdown",
      "source": [
        "## **5. Outliers**"
      ],
      "metadata": {
        "id": "ebwA0CRaH_pZ"
      }
    },
    {
      "cell_type": "markdown",
      "source": [
        "Usaremos el método del rango intercuartílico (IQR) para identificar posibles outliers en las columnas numéricas."
      ],
      "metadata": {
        "id": "BDwSvgu0ILC5"
      }
    },
    {
      "cell_type": "markdown",
      "source": [
        "El método del rango intercuartílico (IQR) es una técnica comúnmente utilizada para identificar valores atípicos (outliers) en columnas numéricas. El $IQR$ es la diferencia entre el tercer cuartil ($Q_3$) y el primer cuartil ($Q_1$) de los datos. Los cuartiles dividen los datos en partes iguales, donde:\n",
        "\n",
        "*   $Q_1$: Es el valor que deja por debajo el $25\\%$ de los datos.\n",
        "*   $Q_3$: Es el valor que deja por debajo el $75\\%$ de los datos.\n",
        "*   $IQR$ (rango intercuartílico): Es la diferencia entre el tercer y el primer cuartil. Representa la amplitud de la \"zona central\" de los datos, es decir, el rango donde se encuentra el $50\\%$ central de los datos."
      ],
      "metadata": {
        "id": "FDjZCyFKIHHZ"
      }
    },
    {
      "cell_type": "code",
      "source": [
        "# Creamos una función para detectar outliers usando el método del IQR\n",
        "def detecta_outliers(df, column):\n",
        "    \"\"\"\n",
        "    Detecta outliers en una columna numérica de un DataFrame usando el método del rango intercuartílico (IQR).\n",
        "\n",
        "    Parámetros:\n",
        "    df (pandas.DataFrame): El DataFrame que contiene los datos.\n",
        "    column (str): El nombre de la columna en la cual se quieren detectar los outliers.\n",
        "\n",
        "    Retorna:\n",
        "    pandas.DataFrame: Un DataFrame que contiene únicamente las filas donde los valores de la columna son outliers.\n",
        "\n",
        "    El método del IQR identifica outliers como aquellos valores que están por debajo de Q1 - 1.5 * IQR o\n",
        "    por encima de Q3 + 1.5 * IQR, donde Q1 es el primer cuartil (25%) y Q3 es el tercer cuartil (75%).\n",
        "    \"\"\"\n",
        "    Q1 = df[column].quantile(0.25)\n",
        "    Q3 = df[column].quantile(0.75)\n",
        "    IQR = Q3 - Q1\n",
        "    lower_bound = Q1 - 1.5 * IQR\n",
        "    upper_bound = Q3 + 1.5 * IQR\n",
        "    outliers = df[(df[column] < lower_bound) | (df[column] > upper_bound)]\n",
        "    return outliers"
      ],
      "metadata": {
        "id": "xIYLaArWIM7J"
      },
      "execution_count": null,
      "outputs": []
    },
    {
      "cell_type": "code",
      "source": [
        "# Detectamos outliers en las columnas numéricas de cada hoja\n",
        "for hoja, df in dataframes_hojas.items():\n",
        "    print(f\"Hoja: {hoja}\")\n",
        "    numeric_cols = df.select_dtypes(include=['float64', 'int64']).columns\n",
        "    for col in numeric_cols:\n",
        "        outliers = detecta_outliers(df, col)\n",
        "        print(f\"Columna: {col}, Outliers encontrados: {len(outliers)}\")\n",
        "        if len(outliers) > 0:\n",
        "            print(outliers.head())  # Mostrar algunos outliers para inspección\n",
        "    print(\"###################################################################\")\n"
      ],
      "metadata": {
        "colab": {
          "base_uri": "https://localhost:8080/"
        },
        "id": "_6jiNeywIjOx",
        "outputId": "252c820d-37d0-43fe-971e-23d184c380ca"
      },
      "execution_count": null,
      "outputs": [
        {
          "output_type": "stream",
          "name": "stdout",
          "text": [
            "Hoja: Accesos\n",
            "Columna: Año, Outliers encontrados: 0\n",
            "Columna: Trimestre, Outliers encontrados: 0\n",
            "Columna: Total de accesos pospago, Outliers encontrados: 0\n",
            "Columna: Total de accesos prepago, Outliers encontrados: 2\n",
            "    Año  Trimestre  Total de accesos pospago  Total de accesos prepago  \\\n",
            "2  2013          3                 8002183.0                59048909.0   \n",
            "3  2013          4                 8674516.0                58894516.0   \n",
            "\n",
            "   Total de accesos operativos        Periodo  \n",
            "2                     67051092  Jul-Sept 2013  \n",
            "3                     67569032   Oct-Dic 2013  \n",
            "Columna: Total de accesos operativos, Outliers encontrados: 0\n",
            "###################################################################\n",
            "Hoja: Minutos salientes\n",
            "Columna: Año, Outliers encontrados: 0\n",
            "Columna: Trimestre, Outliers encontrados: 0\n",
            "Columna: Minutos pospago salientes (miles), Outliers encontrados: 0\n",
            "Columna: Minutos prepago salientes (miles), Outliers encontrados: 5\n",
            "     Año  Trimestre  Minutos pospago salientes (miles)  \\\n",
            "36  2022          1                       1.236290e+07   \n",
            "40  2023          1                       1.098098e+07   \n",
            "41  2023          2                       1.057776e+07   \n",
            "42  2023          3                       1.035489e+07   \n",
            "43  2023          4                       1.014785e+07   \n",
            "\n",
            "    Minutos prepago salientes (miles)  Total de minutos salientes (miles)  \\\n",
            "36                        3586127.049                        1.594903e+07   \n",
            "40                        3469825.691                        1.445080e+07   \n",
            "41                        3493297.850                        1.407106e+07   \n",
            "42                        3639908.067                        1.399479e+07   \n",
            "43                        3673245.067                        1.382110e+07   \n",
            "\n",
            "          Periodo  \n",
            "36   Ene-Mar 2022  \n",
            "40   Ene-Mar 2023  \n",
            "41   Abr-Jun 2023  \n",
            "42  Jul-Sept 2023  \n",
            "43   Oct-Dic 2023  \n",
            "Columna: Total de minutos salientes (miles), Outliers encontrados: 0\n",
            "###################################################################\n",
            "Hoja: Ingresos\n",
            "Columna: Año, Outliers encontrados: 0\n",
            "Columna: Trimestre, Outliers encontrados: 0\n",
            "Columna: Ingresos (miles de $), Outliers encontrados: 5\n",
            "     Año  Trimestre  Ingresos (miles de $)        Periodo\n",
            "40  2023          1              257558366   Ene-Mar 2023\n",
            "41  2023          2              307337085   Abr-Jun 2023\n",
            "42  2023          3              380119973  Jul-Sept 2023\n",
            "43  2023          4              515335742   Oct-Dic 2023\n",
            "44  2024          1              769485386   Ene-Mar 2024\n",
            "###################################################################\n"
          ]
        }
      ]
    },
    {
      "cell_type": "markdown",
      "source": [
        "### 5.1. Hoja `Accesos`"
      ],
      "metadata": {
        "id": "azgEWiedKcp5"
      }
    },
    {
      "cell_type": "markdown",
      "source": [
        "En la columna `Total de accesos prepago`, tenemos 2 registros en los trimestres 3 y 4 de 2013, con valores muy altos de accesos prepago. Es posible que estos valores reflejen un aumento real en el número de usuarios de prepago durante esos trimestres. Los valores atípicos podrían deberse a campañas comerciales o eventos que promovieron un crecimiento en el uso del prepago. No parecen ser errores de datos, ya que están dentro de un rango que podría ser plausible."
      ],
      "metadata": {
        "id": "WN9iQ41uKfJq"
      }
    },
    {
      "cell_type": "markdown",
      "source": [
        "### 5.2. Hoja `Minutos salientes`"
      ],
      "metadata": {
        "id": "yZ7sndxLLD-j"
      }
    },
    {
      "cell_type": "markdown",
      "source": [
        "En la columna `Minutos prepago salientes (miles)`, tenemos 5 registros outliers entre 2022 y 2023. Estos son valores más bajos de minutos prepago salientes (comparados con otros trimestres) que podrían reflejar una tendencia decreciente en el uso de servicios de prepago para llamadas de voz."
      ],
      "metadata": {
        "id": "dQ2s14O-LGa2"
      }
    },
    {
      "cell_type": "markdown",
      "source": [
        "### 5.3. Hoja `Ingresos`"
      ],
      "metadata": {
        "id": "8exffyZwLe__"
      }
    },
    {
      "cell_type": "markdown",
      "source": [
        "En la columna `Ingresos (miles de $)`, tenemos 5 registros outliers que corresponden a trimestres recientes (2023-2024), con ingresos significativamente más altos. Estos valores pueden reflejar un aumento real en los ingresos, ya que en los últimos años ha habido un crecimiento importante en la industria de las telecomunicaciones debido al mayor consumo de servicios móviles y la adopción de nuevas tecnologías."
      ],
      "metadata": {
        "id": "tWp_Fg6sLlvj"
      }
    },
    {
      "cell_type": "markdown",
      "source": [
        "Dado que los outliers encontrados no parecen ser errores de datos, sino que más bien reflejan tendencias o diferencias reales en los trimestres analizados, estos de mantendrán para el análisis."
      ],
      "metadata": {
        "id": "PaU0gDfxL2Am"
      }
    },
    {
      "cell_type": "markdown",
      "source": [
        "## **6. Transformación de los datos**"
      ],
      "metadata": {
        "id": "JGMXEeZoMJdS"
      }
    },
    {
      "cell_type": "markdown",
      "source": [
        "### 6.1. Revisión de formatos de fechas"
      ],
      "metadata": {
        "id": "9hwVY56WMQCd"
      }
    },
    {
      "cell_type": "markdown",
      "source": [
        "Para poder verificar si tenemos columnas con información de fechas en todas las hojas del dataset, podemos buscar las columnas que contengan datos relacionados con fechas (en este caso, aquellas que podrían contener el año, mes o periodo) y revisar si están en el formato correcto. Para ello creamos la siguiente función"
      ],
      "metadata": {
        "id": "JXX_J-QmMmSr"
      }
    },
    {
      "cell_type": "code",
      "source": [
        "# Función para identificar columnas que podrían contener fechas\n",
        "def revisar_columnas_fechas(df):\n",
        "    \"\"\"\n",
        "    Identifica columnas en un DataFrame que potencialmente contienen fechas basándose en los nombres de las columnas.\n",
        "\n",
        "    Parámetros:\n",
        "    df (pandas.DataFrame): El DataFrame que contiene los datos.\n",
        "\n",
        "    Retorna:\n",
        "    dict: Un diccionario donde las claves son los nombres de las columnas potencialmente relacionadas con fechas,\n",
        "    y los valores indican si el formato es correcto (es decir, ya es un formato de fecha) o si necesita conversión.\n",
        "\n",
        "    El criterio para identificar columnas de fechas es revisar si en el nombre de la columna aparece 'fecha', 'periodo'\n",
        "    o 'año'. Luego, se intenta convertir los valores de esas columnas al formato datetime para verificar su validez.\n",
        "    \"\"\"\n",
        "    # Identificar columnas que potencialmente contengan fechas: aquellas con 'fecha', 'periodo' o 'año' en su nombre\n",
        "    columnas_potenciales_fechas = [col for col in df.columns if 'fecha' in col.lower() or 'periodo' in col.lower() or 'año' in col.lower()]\n",
        "\n",
        "    # Verificar si las columnas ya están en formato de fecha o si necesitan conversión\n",
        "    verificacion_fechas = {}\n",
        "    for columna in columnas_potenciales_fechas:\n",
        "        # Intentar convertir a datetime y verificar si hay errores\n",
        "        try:\n",
        "            pd.to_datetime(df[columna], errors='raise')\n",
        "            verificacion_fechas[columna] = 'Formato de fecha correcto'\n",
        "        except:\n",
        "            verificacion_fechas[columna] = 'Formato incorrecto o texto'\n",
        "\n",
        "    return verificacion_fechas"
      ],
      "metadata": {
        "id": "kmHBJ6v_Mmpa"
      },
      "execution_count": null,
      "outputs": []
    },
    {
      "cell_type": "code",
      "source": [
        "# Verificamos todas las hojas para identificar posibles columnas de fechas\n",
        "for hoja, df in dataframes_hojas.items():\n",
        "    print(f\"Verificando fechas en la hoja: {hoja}\")\n",
        "    result = revisar_columnas_fechas(df)  # Usamos la función que creamos\n",
        "    if result:\n",
        "        print(result)\n",
        "    else:\n",
        "        print(\"No se encontraron columnas relacionadas con fechas.\")\n",
        "    print(\"###################################################################\")"
      ],
      "metadata": {
        "colab": {
          "base_uri": "https://localhost:8080/"
        },
        "id": "5FLVMd_qMtxB",
        "outputId": "dbe1e2ad-a01f-4308-8636-be9b3591446a"
      },
      "execution_count": null,
      "outputs": [
        {
          "output_type": "stream",
          "name": "stdout",
          "text": [
            "Verificando fechas en la hoja: Accesos\n",
            "{'Año': 'Formato de fecha correcto', 'Periodo': 'Formato incorrecto o texto'}\n",
            "###################################################################\n",
            "Verificando fechas en la hoja: Minutos salientes\n",
            "{'Año': 'Formato de fecha correcto', 'Periodo': 'Formato incorrecto o texto'}\n",
            "###################################################################\n",
            "Verificando fechas en la hoja: Ingresos\n",
            "{'Año': 'Formato de fecha correcto', 'Periodo': 'Formato incorrecto o texto'}\n",
            "###################################################################\n"
          ]
        },
        {
          "output_type": "stream",
          "name": "stderr",
          "text": [
            "<ipython-input-16-c387c5440ad9>:24: UserWarning: Could not infer format, so each element will be parsed individually, falling back to `dateutil`. To ensure parsing is consistent and as-expected, please specify a format.\n",
            "  pd.to_datetime(df[columna], errors='raise')\n",
            "<ipython-input-16-c387c5440ad9>:24: UserWarning: Could not infer format, so each element will be parsed individually, falling back to `dateutil`. To ensure parsing is consistent and as-expected, please specify a format.\n",
            "  pd.to_datetime(df[columna], errors='raise')\n",
            "<ipython-input-16-c387c5440ad9>:24: UserWarning: Could not infer format, so each element will be parsed individually, falling back to `dateutil`. To ensure parsing is consistent and as-expected, please specify a format.\n",
            "  pd.to_datetime(df[columna], errors='raise')\n"
          ]
        }
      ]
    },
    {
      "cell_type": "markdown",
      "source": [
        "En todas las hojas, la columna `Periodo` contiene información de fechas como texto. Vamos a convertirla a un formato de fecha adecuado:"
      ],
      "metadata": {
        "id": "hBzFiB7xM7Hr"
      }
    },
    {
      "cell_type": "code",
      "source": [
        "# Revisamos el formato de fecha que tiene periodo\n",
        "dataframes_hojas['Accesos']['Periodo'].head()"
      ],
      "metadata": {
        "colab": {
          "base_uri": "https://localhost:8080/",
          "height": 241
        },
        "id": "bSWkaGhwNC95",
        "outputId": "8a547f9d-eeea-40e7-b577-5b853875e732"
      },
      "execution_count": null,
      "outputs": [
        {
          "output_type": "execute_result",
          "data": {
            "text/plain": [
              "0     Ene-Mar 2013\n",
              "1     Abr-Jun 2013\n",
              "2    Jul-Sept 2013\n",
              "3     Oct-Dic 2013\n",
              "4     Ene-Mar 2013\n",
              "Name: Periodo, dtype: object"
            ],
            "text/html": [
              "<div>\n",
              "<style scoped>\n",
              "    .dataframe tbody tr th:only-of-type {\n",
              "        vertical-align: middle;\n",
              "    }\n",
              "\n",
              "    .dataframe tbody tr th {\n",
              "        vertical-align: top;\n",
              "    }\n",
              "\n",
              "    .dataframe thead th {\n",
              "        text-align: right;\n",
              "    }\n",
              "</style>\n",
              "<table border=\"1\" class=\"dataframe\">\n",
              "  <thead>\n",
              "    <tr style=\"text-align: right;\">\n",
              "      <th></th>\n",
              "      <th>Periodo</th>\n",
              "    </tr>\n",
              "  </thead>\n",
              "  <tbody>\n",
              "    <tr>\n",
              "      <th>0</th>\n",
              "      <td>Ene-Mar 2013</td>\n",
              "    </tr>\n",
              "    <tr>\n",
              "      <th>1</th>\n",
              "      <td>Abr-Jun 2013</td>\n",
              "    </tr>\n",
              "    <tr>\n",
              "      <th>2</th>\n",
              "      <td>Jul-Sept 2013</td>\n",
              "    </tr>\n",
              "    <tr>\n",
              "      <th>3</th>\n",
              "      <td>Oct-Dic 2013</td>\n",
              "    </tr>\n",
              "    <tr>\n",
              "      <th>4</th>\n",
              "      <td>Ene-Mar 2013</td>\n",
              "    </tr>\n",
              "  </tbody>\n",
              "</table>\n",
              "</div><br><label><b>dtype:</b> object</label>"
            ]
          },
          "metadata": {},
          "execution_count": 18
        }
      ]
    },
    {
      "cell_type": "code",
      "source": [
        "dataframes_hojas['Minutos salientes']['Periodo'].head()"
      ],
      "metadata": {
        "colab": {
          "base_uri": "https://localhost:8080/",
          "height": 241
        },
        "id": "IhiPsHUMNMoM",
        "outputId": "fae84375-05af-4e61-d03b-38b9abbf1850"
      },
      "execution_count": null,
      "outputs": [
        {
          "output_type": "execute_result",
          "data": {
            "text/plain": [
              "0     Ene-Mar 2013\n",
              "1     Abr-Jun 2013\n",
              "2    Jul-Sept 2013\n",
              "3     Oct-Dic 2013\n",
              "4     Ene-Mar 2013\n",
              "Name: Periodo, dtype: object"
            ],
            "text/html": [
              "<div>\n",
              "<style scoped>\n",
              "    .dataframe tbody tr th:only-of-type {\n",
              "        vertical-align: middle;\n",
              "    }\n",
              "\n",
              "    .dataframe tbody tr th {\n",
              "        vertical-align: top;\n",
              "    }\n",
              "\n",
              "    .dataframe thead th {\n",
              "        text-align: right;\n",
              "    }\n",
              "</style>\n",
              "<table border=\"1\" class=\"dataframe\">\n",
              "  <thead>\n",
              "    <tr style=\"text-align: right;\">\n",
              "      <th></th>\n",
              "      <th>Periodo</th>\n",
              "    </tr>\n",
              "  </thead>\n",
              "  <tbody>\n",
              "    <tr>\n",
              "      <th>0</th>\n",
              "      <td>Ene-Mar 2013</td>\n",
              "    </tr>\n",
              "    <tr>\n",
              "      <th>1</th>\n",
              "      <td>Abr-Jun 2013</td>\n",
              "    </tr>\n",
              "    <tr>\n",
              "      <th>2</th>\n",
              "      <td>Jul-Sept 2013</td>\n",
              "    </tr>\n",
              "    <tr>\n",
              "      <th>3</th>\n",
              "      <td>Oct-Dic 2013</td>\n",
              "    </tr>\n",
              "    <tr>\n",
              "      <th>4</th>\n",
              "      <td>Ene-Mar 2013</td>\n",
              "    </tr>\n",
              "  </tbody>\n",
              "</table>\n",
              "</div><br><label><b>dtype:</b> object</label>"
            ]
          },
          "metadata": {},
          "execution_count": 19
        }
      ]
    },
    {
      "cell_type": "code",
      "source": [
        "dataframes_hojas['Ingresos']['Periodo'].head()"
      ],
      "metadata": {
        "colab": {
          "base_uri": "https://localhost:8080/",
          "height": 241
        },
        "id": "BsQpaeWfNSIZ",
        "outputId": "155c8d0f-bbc2-4226-fb4b-ac6203425eab"
      },
      "execution_count": null,
      "outputs": [
        {
          "output_type": "execute_result",
          "data": {
            "text/plain": [
              "0     Ene-Mar 2013\n",
              "1     Abr-Jun 2013\n",
              "2    Jul-Sept 2013\n",
              "3     Oct-Dic 2013\n",
              "4     Ene-Mar 2013\n",
              "Name: Periodo, dtype: object"
            ],
            "text/html": [
              "<div>\n",
              "<style scoped>\n",
              "    .dataframe tbody tr th:only-of-type {\n",
              "        vertical-align: middle;\n",
              "    }\n",
              "\n",
              "    .dataframe tbody tr th {\n",
              "        vertical-align: top;\n",
              "    }\n",
              "\n",
              "    .dataframe thead th {\n",
              "        text-align: right;\n",
              "    }\n",
              "</style>\n",
              "<table border=\"1\" class=\"dataframe\">\n",
              "  <thead>\n",
              "    <tr style=\"text-align: right;\">\n",
              "      <th></th>\n",
              "      <th>Periodo</th>\n",
              "    </tr>\n",
              "  </thead>\n",
              "  <tbody>\n",
              "    <tr>\n",
              "      <th>0</th>\n",
              "      <td>Ene-Mar 2013</td>\n",
              "    </tr>\n",
              "    <tr>\n",
              "      <th>1</th>\n",
              "      <td>Abr-Jun 2013</td>\n",
              "    </tr>\n",
              "    <tr>\n",
              "      <th>2</th>\n",
              "      <td>Jul-Sept 2013</td>\n",
              "    </tr>\n",
              "    <tr>\n",
              "      <th>3</th>\n",
              "      <td>Oct-Dic 2013</td>\n",
              "    </tr>\n",
              "    <tr>\n",
              "      <th>4</th>\n",
              "      <td>Ene-Mar 2013</td>\n",
              "    </tr>\n",
              "  </tbody>\n",
              "</table>\n",
              "</div><br><label><b>dtype:</b> object</label>"
            ]
          },
          "metadata": {},
          "execution_count": 20
        }
      ]
    },
    {
      "cell_type": "code",
      "source": [
        "# Creamos una función para mapear los meses de texto a un rango adecuado de fechas (trimestres)\n",
        "def convertir_periodo_a_fecha(periodo_str):\n",
        "    \"\"\"\n",
        "    Convierte una cadena con formato de periodo (Ej: \"Ene-Mar 2023\") a una fecha.\n",
        "\n",
        "    Parámetros:\n",
        "    periodo_str (str): El periodo en formato texto.\n",
        "\n",
        "    Retorna:\n",
        "    pandas.Timestamp: La fecha convertida al último día del trimestre correspondiente.\n",
        "    \"\"\"\n",
        "    # Definimos un diccionario para convertir trimestres a fechas\n",
        "    trimestre_a_fecha = {\n",
        "        'Ene-Mar': '03-31',\n",
        "        'Abr-Jun': '06-30',\n",
        "        'Jul-Sept': '09-30',\n",
        "        'Oct-Dic': '12-31'\n",
        "    }\n",
        "\n",
        "    # Dividir el texto en mes y año\n",
        "    for trimestre, fecha in trimestre_a_fecha.items():\n",
        "        if trimestre in periodo_str:\n",
        "            # Extraer el año\n",
        "            year = periodo_str.split()[-1]\n",
        "            # Construir la fecha completa\n",
        "            return pd.to_datetime(f\"{year}-{fecha}\", format=\"%Y-%m-%d\", errors='coerce')\n",
        "    return pd.NaT # Si no se reconoce el formato, devolver NaT (nulo)"
      ],
      "metadata": {
        "id": "ZSMJgjkpNa9x"
      },
      "execution_count": null,
      "outputs": []
    },
    {
      "cell_type": "code",
      "source": [
        "# Aplicamos la conversión a la columna 'Periodo' en todas las hojas relevantes\n",
        "for hoja, df in dataframes_hojas.items():\n",
        "    if 'Periodo' in df.columns:\n",
        "        df['Periodo'] = df['Periodo'].apply(convertir_periodo_a_fecha)\n",
        "        print(f\"Hoja: {hoja} - Columna 'Periodo' convertida con éxito.\")\n",
        "        print(df[['Periodo']].head())  # Verificamos los primeros valores convertidos\n",
        "    print(\"###################################################################\")"
      ],
      "metadata": {
        "colab": {
          "base_uri": "https://localhost:8080/"
        },
        "id": "zMvpbgi0NqDo",
        "outputId": "ecb47d67-4ec4-422c-998c-919c8b70f3bb"
      },
      "execution_count": null,
      "outputs": [
        {
          "output_type": "stream",
          "name": "stdout",
          "text": [
            "Hoja: Accesos - Columna 'Periodo' convertida con éxito.\n",
            "     Periodo\n",
            "0 2013-03-31\n",
            "1 2013-06-30\n",
            "2 2013-09-30\n",
            "3 2013-12-31\n",
            "4 2013-03-31\n",
            "###################################################################\n",
            "Hoja: Minutos salientes - Columna 'Periodo' convertida con éxito.\n",
            "     Periodo\n",
            "0 2013-03-31\n",
            "1 2013-06-30\n",
            "2 2013-09-30\n",
            "3 2013-12-31\n",
            "4 2013-03-31\n",
            "###################################################################\n",
            "Hoja: Ingresos - Columna 'Periodo' convertida con éxito.\n",
            "     Periodo\n",
            "0 2013-03-31\n",
            "1 2013-06-30\n",
            "2 2013-09-30\n",
            "3 2013-12-31\n",
            "4 2013-03-31\n",
            "###################################################################\n"
          ]
        }
      ]
    },
    {
      "cell_type": "markdown",
      "source": [
        "### 6.2. Normalización de los nombres de las columas"
      ],
      "metadata": {
        "id": "j7FjxF3iPdx1"
      }
    },
    {
      "cell_type": "markdown",
      "source": [
        "Vamos a normalizar los nombres de columnas para evitar problemas en el análisis posterior evitando espacios o caracteres especiales."
      ],
      "metadata": {
        "id": "NMoNQ3rWPeuS"
      }
    },
    {
      "cell_type": "code",
      "source": [
        "# Creamos una función para normalizar nombres de columnas\n",
        "def normaliza_nombres_columnas(df):\n",
        "    \"\"\"\n",
        "    Normaliza los nombres de las columnas en un DataFrame.\n",
        "\n",
        "    Esta función realiza los siguientes pasos en los nombres de las columnas:\n",
        "    - Elimina espacios en blanco al inicio y final.\n",
        "    - Convierte todas las letras a minúsculas.\n",
        "    - Reemplaza los espacios entre palabras con guiones bajos.\n",
        "    - Elimina caracteres no alfanuméricos.\n",
        "\n",
        "    Parámetros:\n",
        "    df (pandas.DataFrame): El DataFrame cuyas columnas se van a normalizar.\n",
        "\n",
        "    Retorna:\n",
        "    pandas.DataFrame: El DataFrame con los nombres de columnas normalizados.\n",
        "    \"\"\"\n",
        "    df.columns = df.columns.str.strip().str.lower().str.replace(' ', '_').str.replace(r'[^\\w]', '', regex=True)\n",
        "    return df"
      ],
      "metadata": {
        "id": "oIvsFEmrODyl"
      },
      "execution_count": null,
      "outputs": []
    },
    {
      "cell_type": "code",
      "source": [
        "# Aplicamos la normalización a todas las hojas\n",
        "for hoja, df in dataframes_hojas.items():\n",
        "    normaliza_nombres_columnas(df)"
      ],
      "metadata": {
        "id": "h7gKe_DaPkSj"
      },
      "execution_count": null,
      "outputs": []
    },
    {
      "cell_type": "code",
      "source": [
        "# Verificamos algunos resultados\n",
        "for hoja, df in dataframes_hojas.items():\n",
        "    print(f\"Nombres de columnas en la hoja {hoja}:\")\n",
        "    print(df.columns)\n",
        "    print(\"###################################################################\")"
      ],
      "metadata": {
        "colab": {
          "base_uri": "https://localhost:8080/"
        },
        "id": "p4g8LdWcPnGD",
        "outputId": "920bf065-cd04-40e1-a70b-bc963d77d080"
      },
      "execution_count": null,
      "outputs": [
        {
          "output_type": "stream",
          "name": "stdout",
          "text": [
            "Nombres de columnas en la hoja Accesos:\n",
            "Index(['año', 'trimestre', 'total_de_accesos_pospago',\n",
            "       'total_de_accesos_prepago', 'total_de_accesos_operativos', 'periodo'],\n",
            "      dtype='object')\n",
            "###################################################################\n",
            "Nombres de columnas en la hoja Minutos salientes:\n",
            "Index(['año', 'trimestre', 'minutos_pospago_salientes_miles',\n",
            "       'minutos_prepago_salientes_miles', 'total_de_minutos_salientes_miles',\n",
            "       'periodo'],\n",
            "      dtype='object')\n",
            "###################################################################\n",
            "Nombres de columnas en la hoja Ingresos:\n",
            "Index(['año', 'trimestre', 'ingresos_miles_de_', 'periodo'], dtype='object')\n",
            "###################################################################\n"
          ]
        }
      ]
    },
    {
      "cell_type": "markdown",
      "source": [
        "Como podemos apreciar los nombres de las columnas han sido normalizados correctamente, eliminando espacios, convirtiendo a minúsculas y reemplazando caracteres no alfanuméricos."
      ],
      "metadata": {
        "id": "FFGIU68IPzfS"
      }
    },
    {
      "cell_type": "markdown",
      "source": [
        "### 6.3. Formato correcto en las columnas numéricas"
      ],
      "metadata": {
        "id": "cNzm1QOtP0ld"
      }
    },
    {
      "cell_type": "markdown",
      "source": [
        "Vamos a revisar si las columnas que deberían contener valores numéricos están en el formato adecuado (`int` o `float`). Si encontramos alguna columna numérica que esté en formato de texto o que tenga valores no numéricos, podemos intentar convertirla al formato correcto."
      ],
      "metadata": {
        "id": "KZhqQSN8P8Tv"
      }
    },
    {
      "cell_type": "code",
      "source": [
        "# Hacemos un listado de las columnas que deben permanecer como texto en cada hoja\n",
        "columnas_texto = {\n",
        "    'Accesos': ['periodo'],  # 'Periodo' es texto pero ya lo convertimos a fecha, el resto debería ser numérico\n",
        "    'Minutos salientes': ['periodo'],  # Igual para esta hoja\n",
        "    'Ingresos': ['periodo']  # Solo 'Periodo' debe quedar como fecha en esta hoja\n",
        "}"
      ],
      "metadata": {
        "id": "ZTalZkGWQWqc"
      },
      "execution_count": null,
      "outputs": []
    },
    {
      "cell_type": "code",
      "source": [
        "# Revisamos y convertimos las columnas numéricas a int o float si es necesario\n",
        "for hoja, df in dataframes_hojas.items():\n",
        "    print(f\"Revisando tipos de datos en la hoja: {hoja}\")\n",
        "\n",
        "    # Identificamos las columnas que deberían ser numéricas y no están en la lista de texto\n",
        "    columnas_a_convertir = df.select_dtypes(include=['object']).columns.difference(columnas_texto.get(hoja, []))\n",
        "\n",
        "    for col in columnas_a_convertir:\n",
        "        try:\n",
        "            # Intentamos convertir la columna a numérico (int o float)\n",
        "            df[col] = pd.to_numeric(df[col], errors='coerce')\n",
        "            print(f\"Columna {col} convertida exitosamente a formato numérico.\")\n",
        "        except Exception as e:\n",
        "            print(f\"Error al convertir la columna {col}: {e}\")\n",
        "\n",
        "    # Verificamos el tipo de dato final de cada columna\n",
        "    print(\"Tipos de datos finales:\")\n",
        "    print(df.dtypes)\n",
        "    print(\"###################################################################\")"
      ],
      "metadata": {
        "colab": {
          "base_uri": "https://localhost:8080/"
        },
        "id": "xrHA-BrKQc6f",
        "outputId": "903ba54c-6986-4b26-e71e-833e4ef9a226"
      },
      "execution_count": null,
      "outputs": [
        {
          "output_type": "stream",
          "name": "stdout",
          "text": [
            "Revisando tipos de datos en la hoja: Accesos\n",
            "Tipos de datos finales:\n",
            "año                                     int64\n",
            "trimestre                               int64\n",
            "total_de_accesos_pospago              float64\n",
            "total_de_accesos_prepago              float64\n",
            "total_de_accesos_operativos             int64\n",
            "periodo                        datetime64[ns]\n",
            "dtype: object\n",
            "###################################################################\n",
            "Revisando tipos de datos en la hoja: Minutos salientes\n",
            "Tipos de datos finales:\n",
            "año                                          int64\n",
            "trimestre                                    int64\n",
            "minutos_pospago_salientes_miles            float64\n",
            "minutos_prepago_salientes_miles            float64\n",
            "total_de_minutos_salientes_miles           float64\n",
            "periodo                             datetime64[ns]\n",
            "dtype: object\n",
            "###################################################################\n",
            "Revisando tipos de datos en la hoja: Ingresos\n",
            "Tipos de datos finales:\n",
            "año                            int64\n",
            "trimestre                      int64\n",
            "ingresos_miles_de_             int64\n",
            "periodo               datetime64[ns]\n",
            "dtype: object\n",
            "###################################################################\n"
          ]
        }
      ]
    },
    {
      "cell_type": "markdown",
      "source": [
        "Ahora las columnas están correctamente formateadas:\n",
        "\n",
        "* **Accesos:** Las columnas numéricas (`total_de_accesos_pospago`, `total_de_accesos_prepago`, etc.) están en formato `float64`, excepto `año`, `trimestre`, y `total_de_accesos_operativos`, que son enteros.\n",
        "\n",
        "* **Minutos salientes:** Las columnas numéricas también están en el formato correcto (`float64`), y la columna periodo está correctamente en formato de fecha.\n",
        "\n",
        "* **Ingresos:** Las columnas numéricas (`ingresos_miles_de_`) están en formato `int64`, y la columna `periodo` está en formato de fecha."
      ],
      "metadata": {
        "id": "ITfHOu65Qoj_"
      }
    },
    {
      "cell_type": "markdown",
      "source": [
        "Con estas pasos, hemos finalizado la etapa de transformación de datos, asegurándonos de que todos los valores estén en los formatos adecuados. Ahora los datos están completamente preparados para el análisis."
      ],
      "metadata": {
        "id": "x3AxnlrMRU9K"
      }
    },
    {
      "cell_type": "code",
      "source": [
        "# Crea un archivo ExcelWriter para guardar los DataFrames en diferentes hojas\n",
        "#with pd.ExcelWriter('dataframes_hojas.xlsx') as writer:\n",
        "  #for sheet_name, df in dataframes_hojas.items():\n",
        "    #df.to_excel(writer, sheet_name=sheet_name, index=False)\n",
        "#files.download('dataframes_hojas.xlsx')\n"
      ],
      "metadata": {
        "colab": {
          "base_uri": "https://localhost:8080/",
          "height": 17
        },
        "id": "NXiBxFbIRXZg",
        "outputId": "b2398a53-a066-42ab-a56a-1f3783a103d3"
      },
      "execution_count": null,
      "outputs": [
        {
          "output_type": "display_data",
          "data": {
            "text/plain": [
              "<IPython.core.display.Javascript object>"
            ],
            "application/javascript": [
              "\n",
              "    async function download(id, filename, size) {\n",
              "      if (!google.colab.kernel.accessAllowed) {\n",
              "        return;\n",
              "      }\n",
              "      const div = document.createElement('div');\n",
              "      const label = document.createElement('label');\n",
              "      label.textContent = `Downloading \"${filename}\": `;\n",
              "      div.appendChild(label);\n",
              "      const progress = document.createElement('progress');\n",
              "      progress.max = size;\n",
              "      div.appendChild(progress);\n",
              "      document.body.appendChild(div);\n",
              "\n",
              "      const buffers = [];\n",
              "      let downloaded = 0;\n",
              "\n",
              "      const channel = await google.colab.kernel.comms.open(id);\n",
              "      // Send a message to notify the kernel that we're ready.\n",
              "      channel.send({})\n",
              "\n",
              "      for await (const message of channel.messages) {\n",
              "        // Send a message to notify the kernel that we're ready.\n",
              "        channel.send({})\n",
              "        if (message.buffers) {\n",
              "          for (const buffer of message.buffers) {\n",
              "            buffers.push(buffer);\n",
              "            downloaded += buffer.byteLength;\n",
              "            progress.value = downloaded;\n",
              "          }\n",
              "        }\n",
              "      }\n",
              "      const blob = new Blob(buffers, {type: 'application/binary'});\n",
              "      const a = document.createElement('a');\n",
              "      a.href = window.URL.createObjectURL(blob);\n",
              "      a.download = filename;\n",
              "      div.appendChild(a);\n",
              "      a.click();\n",
              "      div.remove();\n",
              "    }\n",
              "  "
            ]
          },
          "metadata": {}
        },
        {
          "output_type": "display_data",
          "data": {
            "text/plain": [
              "<IPython.core.display.Javascript object>"
            ],
            "application/javascript": [
              "download(\"download_b412eac0-1594-455e-976e-6fe961df4c14\", \"dataframes_hojas.xlsx\", 11274)"
            ]
          },
          "metadata": {}
        }
      ]
    }
  ]
}