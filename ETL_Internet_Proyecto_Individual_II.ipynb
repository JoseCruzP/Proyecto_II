{
  "nbformat": 4,
  "nbformat_minor": 0,
  "metadata": {
    "colab": {
      "provenance": []
    },
    "kernelspec": {
      "name": "python3",
      "display_name": "Python 3"
    },
    "language_info": {
      "name": "python"
    }
  },
  "cells": [
    {
      "cell_type": "markdown",
      "source": [
        "# **Extracción, Transformación y Carga (ETL) - Dataset: Internet**"
      ],
      "metadata": {
        "id": "eBaCz5IIdzc3"
      }
    },
    {
      "cell_type": "markdown",
      "source": [
        "Se hará el proceso de ETL para el dataset \"internet\" del proyecto de Data Analyst en telecomunicaciones. Se inicia priorizando cuáles de las 15 hojas del dataset son relevantes para el proyecto."
      ],
      "metadata": {
        "id": "JX0f1yH0eWzv"
      }
    },
    {
      "cell_type": "markdown",
      "source": [
        "## **1. Hojas relevantes**"
      ],
      "metadata": {
        "id": "QNB5W-y0e1IB"
      }
    },
    {
      "cell_type": "markdown",
      "source": [
        "Luego de una revisión se considera que para el fin del proyecto, el cual es la realización de un análisis completo que permita reconocer el comportamiento del sector de las telecomunicaciones a nivel nacional, solamente se tendrán en cuentas algunas páginas de el dataset de \"*Internet*\"."
      ],
      "metadata": {
        "id": "EVWXOtdQe4XD"
      }
    },
    {
      "cell_type": "markdown",
      "source": [
        "*   **Penetración-hogares**: Para el análisis de la penetración de internet en los hogares, esencial para medir el KPI sobre el aumento de acceso a internet.\n",
        "*   **Accesos_por_velocidad:** Relevante para identificar patrones de uso según la velocidad de conexión, lo que puede ayudar en el análisis del servicio brindado.\n",
        "*  **Accesos_tecnologia_localidad:** Esta hoja puede ser útil para entender la distribución del acceso a internet por tecnologías y localidades, y encontrar oportunidades de mejora.\n",
        "* **Ingresos:** Datos importantes para relacionar el crecimiento del servicio con los ingresos generados, que también puede servir para evaluar el desempeño financiero."
      ],
      "metadata": {
        "id": "afyN3rDqgCq4"
      }
    },
    {
      "cell_type": "markdown",
      "source": [
        "## **2. Carga de la base de datos**"
      ],
      "metadata": {
        "id": "o5PHhYQVhj0i"
      }
    },
    {
      "cell_type": "code",
      "source": [
        "import pandas as pd\n",
        "\n",
        "# Cargamos el dataset\n",
        "datos = '/content/Internet.xlsx'"
      ],
      "metadata": {
        "id": "1avlk3Fgej3D"
      },
      "execution_count": null,
      "outputs": []
    },
    {
      "cell_type": "code",
      "source": [
        "# Seleccionamos las hojas\n",
        "hojas = ['Penetracion-hogares', 'Accesos por velocidad', 'Accesos_tecnologia_localidad', 'Ingresos ']"
      ],
      "metadata": {
        "id": "EEvCoc_IiEvK"
      },
      "execution_count": null,
      "outputs": []
    },
    {
      "cell_type": "code",
      "source": [
        "# Cargamos cada hoja en un diccionario de DataFrames\n",
        "dataframes_hojas = {hoja: pd.read_excel(datos, sheet_name=hoja) for hoja in hojas}"
      ],
      "metadata": {
        "id": "b8-uYeQmicoJ"
      },
      "execution_count": null,
      "outputs": []
    },
    {
      "cell_type": "code",
      "source": [
        "# Exploramos la estructura de los datos cargados\n",
        "for hoja, df in dataframes_hojas.items():\n",
        "    print(\"###################################################################\")\n",
        "    print(f\"Hoja: {hoja}\")\n",
        "    print(\"###################################################################\")\n",
        "    print(df.info())\n",
        "    print(\"###################################################################\")\n",
        "    print(df.head())"
      ],
      "metadata": {
        "colab": {
          "base_uri": "https://localhost:8080/"
        },
        "id": "LiuNgAzrlPqj",
        "outputId": "42181e0c-a511-4ebe-f595-60d4aeff7bb1"
      },
      "execution_count": null,
      "outputs": [
        {
          "output_type": "stream",
          "name": "stdout",
          "text": [
            "###################################################################\n",
            "Hoja: Penetracion-hogares\n",
            "###################################################################\n",
            "<class 'pandas.core.frame.DataFrame'>\n",
            "RangeIndex: 984 entries, 0 to 983\n",
            "Data columns (total 4 columns):\n",
            " #   Column                        Non-Null Count  Dtype  \n",
            "---  ------                        --------------  -----  \n",
            " 0   Año                           984 non-null    int64  \n",
            " 1   Trimestre                     984 non-null    int64  \n",
            " 2   Provincia                     984 non-null    object \n",
            " 3   Accesos por cada 100 hogares  984 non-null    float64\n",
            "dtypes: float64(1), int64(2), object(1)\n",
            "memory usage: 30.9+ KB\n",
            "None\n",
            "###################################################################\n",
            "    Año  Trimestre        Provincia  Accesos por cada 100 hogares\n",
            "0  2024          1     Buenos Aires                         81.10\n",
            "1  2024          1  Capital Federal                        119.53\n",
            "2  2024          1        Catamarca                         68.82\n",
            "3  2024          1            Chaco                         46.70\n",
            "4  2024          1           Chubut                         84.89\n",
            "###################################################################\n",
            "Hoja: Accesos por velocidad\n",
            "###################################################################\n",
            "<class 'pandas.core.frame.DataFrame'>\n",
            "RangeIndex: 984 entries, 0 to 983\n",
            "Data columns (total 12 columns):\n",
            " #   Column               Non-Null Count  Dtype  \n",
            "---  ------               --------------  -----  \n",
            " 0   Año                  984 non-null    int64  \n",
            " 1   Trimestre            984 non-null    int64  \n",
            " 2   Provincia            984 non-null    object \n",
            " 3   HASTA 512 kbps       984 non-null    float64\n",
            " 4   + 512 Kbps - 1 Mbps  984 non-null    float64\n",
            " 5   + 1 Mbps - 6 Mbps    984 non-null    float64\n",
            " 6   + 6 Mbps - 10 Mbps   984 non-null    float64\n",
            " 7   + 10 Mbps - 20 Mbps  984 non-null    float64\n",
            " 8   + 20 Mbps - 30 Mbps  984 non-null    float64\n",
            " 9   + 30 Mbps            984 non-null    float64\n",
            " 10  OTROS                978 non-null    float64\n",
            " 11  Total                984 non-null    float64\n",
            "dtypes: float64(9), int64(2), object(1)\n",
            "memory usage: 92.4+ KB\n",
            "None\n",
            "###################################################################\n",
            "    Año  Trimestre        Provincia  HASTA 512 kbps  + 512 Kbps - 1 Mbps  \\\n",
            "0  2024          1     Buenos Aires         26002.0              22510.0   \n",
            "1  2024          1  Capital Federal           516.0               5418.0   \n",
            "2  2024          1        Catamarca            71.0                176.0   \n",
            "3  2024          1            Chaco           236.0                416.0   \n",
            "4  2024          1           Chubut           111.0               1083.0   \n",
            "\n",
            "   + 1 Mbps - 6 Mbps  + 6 Mbps - 10 Mbps  + 10 Mbps - 20 Mbps  \\\n",
            "0           221185.0            233225.0             241778.0   \n",
            "1            29753.0             51415.0              37369.0   \n",
            "2             2872.0              3424.0               4204.0   \n",
            "3            14156.0              9044.0               5533.0   \n",
            "4            43828.0             31885.0              23024.0   \n",
            "\n",
            "   + 20 Mbps - 30 Mbps  + 30 Mbps     OTROS      Total  \n",
            "0             106418.0  4068292.0  125147.0  5044557.0  \n",
            "1               5957.0  1374283.0       0.0  1504711.0  \n",
            "2               1822.0    62294.0      70.0    74933.0  \n",
            "3               5718.0   116624.0    3816.0   155543.0  \n",
            "4              20261.0    33844.0   16640.0   170676.0  \n",
            "###################################################################\n",
            "Hoja: Accesos_tecnologia_localidad\n",
            "###################################################################\n",
            "<class 'pandas.core.frame.DataFrame'>\n",
            "RangeIndex: 3352 entries, 0 to 3351\n",
            "Data columns (total 13 columns):\n",
            " #   Column         Non-Null Count  Dtype \n",
            "---  ------         --------------  ----- \n",
            " 0   Provincia      3072 non-null   object\n",
            " 1   Partido        3072 non-null   object\n",
            " 2   Localidad      3072 non-null   object\n",
            " 3   Link Indec     3072 non-null   object\n",
            " 4   ADSL           3352 non-null   int64 \n",
            " 5   CABLEMODEM     3352 non-null   int64 \n",
            " 6   DIAL UP        3352 non-null   int64 \n",
            " 7   FIBRA OPTICA   3352 non-null   int64 \n",
            " 8   OTROS          3352 non-null   int64 \n",
            " 9   SATELITAL      3352 non-null   int64 \n",
            " 10  WIMAX          3352 non-null   int64 \n",
            " 11  WIRELESS       3352 non-null   int64 \n",
            " 12  Total general  3352 non-null   int64 \n",
            "dtypes: int64(9), object(4)\n",
            "memory usage: 340.6+ KB\n",
            "None\n",
            "###################################################################\n",
            "      Provincia     Partido               Localidad Link Indec  ADSL  \\\n",
            "0  BUENOS AIRES  25 de Mayo              25 de Mayo    6854100   755   \n",
            "1  BUENOS AIRES  25 de Mayo               Del Valle    6854020   181   \n",
            "2  BUENOS AIRES  25 de Mayo       Gobernador Ugarte    6854040     0   \n",
            "3  BUENOS AIRES  25 de Mayo  Norberto de la Riestra    6854060     0   \n",
            "4  BUENOS AIRES  25 de Mayo        Lucas Monteverde    6854050     0   \n",
            "\n",
            "   CABLEMODEM  DIAL UP  FIBRA OPTICA  OTROS  SATELITAL  WIMAX  WIRELESS  \\\n",
            "0        4600        0             2      0        742      0       727   \n",
            "1           0        0             0     10          1      0         0   \n",
            "2           0        0             0      0          0      0       181   \n",
            "3         782        0           496     16          0      0       185   \n",
            "4           0        0             0      0          0      0         6   \n",
            "\n",
            "   Total general  \n",
            "0           6826  \n",
            "1            192  \n",
            "2            181  \n",
            "3           1479  \n",
            "4              6  \n",
            "###################################################################\n",
            "Hoja: Ingresos \n",
            "###################################################################\n",
            "<class 'pandas.core.frame.DataFrame'>\n",
            "RangeIndex: 41 entries, 0 to 40\n",
            "Data columns (total 4 columns):\n",
            " #   Column                     Non-Null Count  Dtype  \n",
            "---  ------                     --------------  -----  \n",
            " 0   Año                        41 non-null     int64  \n",
            " 1   Trimestre                  41 non-null     int64  \n",
            " 2   Ingresos (miles de pesos)  41 non-null     float64\n",
            " 3   Periodo                    41 non-null     object \n",
            "dtypes: float64(1), int64(2), object(1)\n",
            "memory usage: 1.4+ KB\n",
            "None\n",
            "###################################################################\n",
            "    Año  Trimestre  Ingresos (miles de pesos)        Periodo\n",
            "0  2024          1               2.804191e+08   Ene-Mar 2024\n",
            "1  2023          4               1.673760e+08   Oct-Dic 2023\n",
            "2  2023          3               1.331066e+08  Jul-Sept 2023\n",
            "3  2023          2               1.180603e+08   Jun-Mar 2023\n",
            "4  2033          1               1.041350e+08   Ene-Mar 2023\n"
          ]
        }
      ]
    },
    {
      "cell_type": "markdown",
      "source": [
        "## **3. Datos faltantes**"
      ],
      "metadata": {
        "id": "o7x9EJ7Rmb8r"
      }
    },
    {
      "cell_type": "markdown",
      "source": [
        "Procedemos a identificar las columnas con valores faltantes y decidir cómo tratarlos (imputación, eliminación, etc.)."
      ],
      "metadata": {
        "id": "_uCZUcIOmpNV"
      }
    },
    {
      "cell_type": "code",
      "source": [
        "# Verificamos valores faltantes en cada hoja\n",
        "for hoja, df in dataframes_hojas.items():\n",
        "    print(f\"Hoja: {hoja}\")\n",
        "    print(df.isnull().sum())\n",
        "    print(\"###################################################################\")"
      ],
      "metadata": {
        "colab": {
          "base_uri": "https://localhost:8080/"
        },
        "id": "3XMjKToxmlaB",
        "outputId": "74b07ea3-40f3-432a-8917-6797da30cbd9"
      },
      "execution_count": null,
      "outputs": [
        {
          "output_type": "stream",
          "name": "stdout",
          "text": [
            "Hoja: Penetracion-hogares\n",
            "Año                             0\n",
            "Trimestre                       0\n",
            "Provincia                       0\n",
            "Accesos por cada 100 hogares    0\n",
            "dtype: int64\n",
            "###################################################################\n",
            "Hoja: Accesos por velocidad\n",
            "Año                    0\n",
            "Trimestre              0\n",
            "Provincia              0\n",
            "HASTA 512 kbps         0\n",
            "+ 512 Kbps - 1 Mbps    0\n",
            "+ 1 Mbps - 6 Mbps      0\n",
            "+ 6 Mbps - 10 Mbps     0\n",
            "+ 10 Mbps - 20 Mbps    0\n",
            "+ 20 Mbps - 30 Mbps    0\n",
            "+ 30 Mbps              0\n",
            "OTROS                  6\n",
            "Total                  0\n",
            "dtype: int64\n",
            "###################################################################\n",
            "Hoja: Accesos_tecnologia_localidad\n",
            "Provincia        280\n",
            "Partido          280\n",
            "Localidad        280\n",
            "Link Indec       280\n",
            "ADSL               0\n",
            "CABLEMODEM         0\n",
            "DIAL UP            0\n",
            "FIBRA OPTICA       0\n",
            "OTROS              0\n",
            "SATELITAL          0\n",
            "WIMAX              0\n",
            "WIRELESS           0\n",
            "Total general      0\n",
            "dtype: int64\n",
            "###################################################################\n",
            "Hoja: Ingresos \n",
            "Año                          0\n",
            "Trimestre                    0\n",
            "Ingresos (miles de pesos)    0\n",
            "Periodo                      0\n",
            "dtype: int64\n",
            "###################################################################\n"
          ]
        }
      ]
    },
    {
      "cell_type": "markdown",
      "source": [
        "### 3.1. Hoja: `Accesos por velocidad`"
      ],
      "metadata": {
        "id": "7r1VaAXQnDAz"
      }
    },
    {
      "cell_type": "markdown",
      "source": [
        "Tenemos que la columna `OTROS` tiene $6$ valores faltantes. Dado que estos faltantes representan apenas un $0.6 \\; \\%$ de los datos (el cual no consideramos una cantidad significativa), procederemos a eliminarlos."
      ],
      "metadata": {
        "id": "1j_fp0v9nOhr"
      }
    },
    {
      "cell_type": "code",
      "source": [
        "# Eliminamos las filas con valores faltantes en la columna 'OTROS' de la hoja 'Accesos por velocidad'\n",
        "dataframes_hojas['Accesos por velocidad'].dropna(subset=['OTROS'], inplace=True)"
      ],
      "metadata": {
        "id": "eAJ6tAp_nKJy"
      },
      "execution_count": null,
      "outputs": []
    },
    {
      "cell_type": "markdown",
      "source": [
        "### 3.2. Hoja: `Accesos_tecnologia_localidad`"
      ],
      "metadata": {
        "id": "1vG0xMQGrzHQ"
      }
    },
    {
      "cell_type": "markdown",
      "source": [
        "En esta hoja se procede a revisar mas a detalle ya que se tienen $280$ valores faltantes, se encuentra que esos nulos aparecen porque hay filas vacias, pero en ciertas columnas estan rellenas con el caracter guión \"-\", luego no contienen ningún tipo de información, así que vamos a eliminar las filas que contienen esos supuestos datos faltantes."
      ],
      "metadata": {
        "id": "iPiuZ9pJr6mC"
      }
    },
    {
      "cell_type": "code",
      "source": [
        "# Eliminamos las filas con valores faltantes en 'Accesos_tecnologia_localidad'\n",
        "dataframes_hojas['Accesos_tecnologia_localidad'].dropna(subset=['Provincia', 'Partido', 'Localidad', 'Link Indec'], inplace=True)"
      ],
      "metadata": {
        "id": "URtTLj4asaRR"
      },
      "execution_count": null,
      "outputs": []
    },
    {
      "cell_type": "markdown",
      "source": [
        "### 3.3. Confirmación de inexistencia de datos faltantes"
      ],
      "metadata": {
        "id": "MDJHdKEtsklP"
      }
    },
    {
      "cell_type": "code",
      "source": [
        "# Confirmamos que los valores faltantes han sido manejados\n",
        "for hoja, df in dataframes_hojas.items():\n",
        "    print(f\"Hoja: {hoja}\")\n",
        "    print(df.isnull().sum())\n",
        "    print(\"###################################################################\")"
      ],
      "metadata": {
        "colab": {
          "base_uri": "https://localhost:8080/"
        },
        "id": "wSe5EqBlsqDd",
        "outputId": "4825fb8a-6db4-4940-b879-add16574b7bd"
      },
      "execution_count": null,
      "outputs": [
        {
          "output_type": "stream",
          "name": "stdout",
          "text": [
            "Hoja: Penetracion-hogares\n",
            "Año                             0\n",
            "Trimestre                       0\n",
            "Provincia                       0\n",
            "Accesos por cada 100 hogares    0\n",
            "dtype: int64\n",
            "###################################################################\n",
            "Hoja: Accesos por velocidad\n",
            "Año                    0\n",
            "Trimestre              0\n",
            "Provincia              0\n",
            "HASTA 512 kbps         0\n",
            "+ 512 Kbps - 1 Mbps    0\n",
            "+ 1 Mbps - 6 Mbps      0\n",
            "+ 6 Mbps - 10 Mbps     0\n",
            "+ 10 Mbps - 20 Mbps    0\n",
            "+ 20 Mbps - 30 Mbps    0\n",
            "+ 30 Mbps              0\n",
            "OTROS                  0\n",
            "Total                  0\n",
            "dtype: int64\n",
            "###################################################################\n",
            "Hoja: Accesos_tecnologia_localidad\n",
            "Provincia        0\n",
            "Partido          0\n",
            "Localidad        0\n",
            "Link Indec       0\n",
            "ADSL             0\n",
            "CABLEMODEM       0\n",
            "DIAL UP          0\n",
            "FIBRA OPTICA     0\n",
            "OTROS            0\n",
            "SATELITAL        0\n",
            "WIMAX            0\n",
            "WIRELESS         0\n",
            "Total general    0\n",
            "dtype: int64\n",
            "###################################################################\n",
            "Hoja: Ingresos \n",
            "Año                          0\n",
            "Trimestre                    0\n",
            "Ingresos (miles de pesos)    0\n",
            "Periodo                      0\n",
            "dtype: int64\n",
            "###################################################################\n"
          ]
        }
      ]
    },
    {
      "cell_type": "markdown",
      "source": [
        "## **4. Datos duplicados**"
      ],
      "metadata": {
        "id": "ftN2QKi9tDK6"
      }
    },
    {
      "cell_type": "markdown",
      "source": [
        "Primero identificaremos si existen datos duplicados en cada hoja.\n",
        "En caso de encontralos procederemos a eliminarlos."
      ],
      "metadata": {
        "id": "KRdtEpM3tG4w"
      }
    },
    {
      "cell_type": "code",
      "source": [
        "# Verificamos y eliminamos duplicados en cada hoja del diccionario\n",
        "for hoja, df in dataframes_hojas.items():\n",
        "    print(f\"Antes de eliminar duplicados en {hoja}: {df.duplicated().sum()} filas duplicadas\")\n",
        "\n",
        "    # Eliminamos duplicados\n",
        "    dataframes_hojas[hoja] = df.drop_duplicates()\n",
        "\n",
        "    print(f\"Después de eliminar duplicados en {hoja}: {dataframes_hojas[hoja].duplicated().sum()} filas duplicadas\")\n",
        "    print(\"###################################################################\")\n"
      ],
      "metadata": {
        "colab": {
          "base_uri": "https://localhost:8080/"
        },
        "id": "tf831IywtWeA",
        "outputId": "05651168-3b7e-4909-ff6a-b47a94036ac9"
      },
      "execution_count": null,
      "outputs": [
        {
          "output_type": "stream",
          "name": "stdout",
          "text": [
            "Antes de eliminar duplicados en Penetracion-hogares: 0 filas duplicadas\n",
            "Después de eliminar duplicados en Penetracion-hogares: 0 filas duplicadas\n",
            "###################################################################\n",
            "Antes de eliminar duplicados en Accesos por velocidad: 0 filas duplicadas\n",
            "Después de eliminar duplicados en Accesos por velocidad: 0 filas duplicadas\n",
            "###################################################################\n",
            "Antes de eliminar duplicados en Accesos_tecnologia_localidad: 0 filas duplicadas\n",
            "Después de eliminar duplicados en Accesos_tecnologia_localidad: 0 filas duplicadas\n",
            "###################################################################\n",
            "Antes de eliminar duplicados en Ingresos : 0 filas duplicadas\n",
            "Después de eliminar duplicados en Ingresos : 0 filas duplicadas\n",
            "###################################################################\n"
          ]
        }
      ]
    },
    {
      "cell_type": "markdown",
      "source": [
        "Como podemos apreciar, no habían datos duplicados."
      ],
      "metadata": {
        "id": "qCV9UgFHtfcs"
      }
    },
    {
      "cell_type": "markdown",
      "source": [
        "## **5. Outliers**"
      ],
      "metadata": {
        "id": "ectbIs4wuJNS"
      }
    },
    {
      "cell_type": "markdown",
      "source": [
        "Usaremos el método del rango intercuartílico (IQR) para identificar posibles outliers en las columnas numéricas."
      ],
      "metadata": {
        "id": "EehVKeczuO6w"
      }
    },
    {
      "cell_type": "markdown",
      "source": [
        "El método del rango intercuartílico (IQR) es una técnica comúnmente utilizada para identificar valores atípicos (outliers) en columnas numéricas. El $IQR$ es la diferencia entre el tercer cuartil ($Q_3$) y el primer cuartil ($Q_1$) de los datos. Los cuartiles dividen los datos en partes iguales, donde:\n",
        "\n",
        "*   $Q_1$: Es el valor que deja por debajo el $25\\%$ de los datos.\n",
        "*   $Q_3$: Es el valor que deja por debajo el $75\\%$ de los datos.\n",
        "*   $IQR$ (rango intercuartílico): Es la diferencia entre el tercer y el primer cuartil. Representa la amplitud de la \"zona central\" de los datos, es decir, el rango donde se encuentra el $50\\%$ central de los datos.\n",
        "\n"
      ],
      "metadata": {
        "id": "C53awveNujAR"
      }
    },
    {
      "cell_type": "code",
      "source": [
        "# Creamos una función para detectar outliers usando el método del IQR\n",
        "def detecta_outliers(df, column):\n",
        "    \"\"\"\n",
        "    Detecta outliers en una columna numérica de un DataFrame usando el método del rango intercuartílico (IQR).\n",
        "\n",
        "    Parámetros:\n",
        "    df (pandas.DataFrame): El DataFrame que contiene los datos.\n",
        "    column (str): El nombre de la columna en la cual se quieren detectar los outliers.\n",
        "\n",
        "    Retorna:\n",
        "    pandas.DataFrame: Un DataFrame que contiene únicamente las filas donde los valores de la columna son outliers.\n",
        "\n",
        "    El método del IQR identifica outliers como aquellos valores que están por debajo de Q1 - 1.5 * IQR o\n",
        "    por encima de Q3 + 1.5 * IQR, donde Q1 es el primer cuartil (25%) y Q3 es el tercer cuartil (75%).\n",
        "    \"\"\"\n",
        "    Q1 = df[column].quantile(0.25)\n",
        "    Q3 = df[column].quantile(0.75)\n",
        "    IQR = Q3 - Q1\n",
        "    lower_bound = Q1 - 1.5 * IQR\n",
        "    upper_bound = Q3 + 1.5 * IQR\n",
        "    outliers = df[(df[column] < lower_bound) | (df[column] > upper_bound)]\n",
        "    return outliers"
      ],
      "metadata": {
        "id": "BC8KREsIvrwH"
      },
      "execution_count": null,
      "outputs": []
    },
    {
      "cell_type": "code",
      "source": [
        "# Detectamos outliers en las columnas numéricas de cada hoja\n",
        "for hoja, df in dataframes_hojas.items():\n",
        "    print(f\"Hoja: {hoja}\")\n",
        "    numeric_cols = df.select_dtypes(include=['float64', 'int64']).columns\n",
        "    for col in numeric_cols:\n",
        "        outliers = detecta_outliers(df, col)\n",
        "        print(f\"Columna: {col}, Outliers encontrados: {len(outliers)}\")\n",
        "        if len(outliers) > 0:\n",
        "            print(outliers.head())  # Mostrar algunos outliers para inspección\n",
        "    print(\"###################################################################\")"
      ],
      "metadata": {
        "colab": {
          "base_uri": "https://localhost:8080/"
        },
        "id": "1_DucaH3v2tk",
        "outputId": "ba378936-2a1a-4cab-98ff-1e3806437573"
      },
      "execution_count": null,
      "outputs": [
        {
          "output_type": "stream",
          "name": "stdout",
          "text": [
            "Hoja: Penetracion-hogares\n",
            "Columna: año, Outliers encontrados: 0\n",
            "Columna: trimestre, Outliers encontrados: 0\n",
            "Columna: accesos_por_cada_100_hogares, Outliers encontrados: 20\n",
            "     año  trimestre        provincia  accesos_por_cada_100_hogares\n",
            "1   2024          1  Capital Federal                        119.53\n",
            "25  2023          4  Capital Federal                        117.02\n",
            "49  2023          3  Capital Federal                        116.40\n",
            "73  2023          2  Capital Federal                        115.48\n",
            "97  2023          1  Capital Federal                        122.59\n",
            "###################################################################\n",
            "Hoja: Accesos por velocidad\n",
            "Columna: año, Outliers encontrados: 0\n",
            "Columna: trimestre, Outliers encontrados: 0\n",
            "Columna: hasta_512_kbps, Outliers encontrados: 167\n",
            "     año  trimestre     provincia  hasta_512_kbps  _512_kbps__1_mbps  \\\n",
            "0   2024          1  Buenos Aires         26002.0            22510.0   \n",
            "24  2024          4  Buenos Aires         26909.0            23962.0   \n",
            "48  2023          3  Buenos Aires         27440.0            24820.0   \n",
            "72  2023          2  Buenos Aires         28007.0            24674.0   \n",
            "96  2023          1  Buenos Aires         28615.0            25137.0   \n",
            "\n",
            "    _1_mbps__6_mbps  _6_mbps__10_mbps  _10_mbps__20_mbps  _20_mbps__30_mbps  \\\n",
            "0          221185.0          233225.0           241778.0           106418.0   \n",
            "24         228393.0          239339.0           246144.0           110876.0   \n",
            "48         242010.0          241310.0           246076.0           112159.0   \n",
            "72         246067.0          253078.0           245505.0           107502.0   \n",
            "96         249864.0          264388.0           241923.0           104495.0   \n",
            "\n",
            "     _30_mbps     otros      total  \n",
            "0   4068292.0  125147.0  5044557.0  \n",
            "24  4042646.0   93351.0  5011620.0  \n",
            "48  3951660.0  122762.0  4968237.0  \n",
            "72  3883235.0   97420.0  4885488.0  \n",
            "96  3810940.0   95566.0  4820928.0  \n",
            "Columna: _512_kbps__1_mbps, Outliers encontrados: 116\n",
            "     año  trimestre     provincia  hasta_512_kbps  _512_kbps__1_mbps  \\\n",
            "0   2024          1  Buenos Aires         26002.0            22510.0   \n",
            "24  2024          4  Buenos Aires         26909.0            23962.0   \n",
            "48  2023          3  Buenos Aires         27440.0            24820.0   \n",
            "72  2023          2  Buenos Aires         28007.0            24674.0   \n",
            "96  2023          1  Buenos Aires         28615.0            25137.0   \n",
            "\n",
            "    _1_mbps__6_mbps  _6_mbps__10_mbps  _10_mbps__20_mbps  _20_mbps__30_mbps  \\\n",
            "0          221185.0          233225.0           241778.0           106418.0   \n",
            "24         228393.0          239339.0           246144.0           110876.0   \n",
            "48         242010.0          241310.0           246076.0           112159.0   \n",
            "72         246067.0          253078.0           245505.0           107502.0   \n",
            "96         249864.0          264388.0           241923.0           104495.0   \n",
            "\n",
            "     _30_mbps     otros      total  \n",
            "0   4068292.0  125147.0  5044557.0  \n",
            "24  4042646.0   93351.0  5011620.0  \n",
            "48  3951660.0  122762.0  4968237.0  \n",
            "72  3883235.0   97420.0  4885488.0  \n",
            "96  3810940.0   95566.0  4820928.0  \n",
            "Columna: _1_mbps__6_mbps, Outliers encontrados: 139\n",
            "     año  trimestre     provincia  hasta_512_kbps  _512_kbps__1_mbps  \\\n",
            "0   2024          1  Buenos Aires         26002.0            22510.0   \n",
            "24  2024          4  Buenos Aires         26909.0            23962.0   \n",
            "48  2023          3  Buenos Aires         27440.0            24820.0   \n",
            "72  2023          2  Buenos Aires         28007.0            24674.0   \n",
            "96  2023          1  Buenos Aires         28615.0            25137.0   \n",
            "\n",
            "    _1_mbps__6_mbps  _6_mbps__10_mbps  _10_mbps__20_mbps  _20_mbps__30_mbps  \\\n",
            "0          221185.0          233225.0           241778.0           106418.0   \n",
            "24         228393.0          239339.0           246144.0           110876.0   \n",
            "48         242010.0          241310.0           246076.0           112159.0   \n",
            "72         246067.0          253078.0           245505.0           107502.0   \n",
            "96         249864.0          264388.0           241923.0           104495.0   \n",
            "\n",
            "     _30_mbps     otros      total  \n",
            "0   4068292.0  125147.0  5044557.0  \n",
            "24  4042646.0   93351.0  5011620.0  \n",
            "48  3951660.0  122762.0  4968237.0  \n",
            "72  3883235.0   97420.0  4885488.0  \n",
            "96  3810940.0   95566.0  4820928.0  \n",
            "Columna: _6_mbps__10_mbps, Outliers encontrados: 111\n",
            "     año  trimestre     provincia  hasta_512_kbps  _512_kbps__1_mbps  \\\n",
            "0   2024          1  Buenos Aires         26002.0            22510.0   \n",
            "20  2024          1      Santa Fe           468.0             6417.0   \n",
            "24  2024          4  Buenos Aires         26909.0            23962.0   \n",
            "44  2024          4      Santa Fe           468.0             6845.0   \n",
            "48  2023          3  Buenos Aires         27440.0            24820.0   \n",
            "\n",
            "    _1_mbps__6_mbps  _6_mbps__10_mbps  _10_mbps__20_mbps  _20_mbps__30_mbps  \\\n",
            "0          221185.0          233225.0           241778.0           106418.0   \n",
            "20          76294.0          153030.0            58595.0            28498.0   \n",
            "24         228393.0          239339.0           246144.0           110876.0   \n",
            "44          82343.0          164019.0            59636.0            22135.0   \n",
            "48         242010.0          241310.0           246076.0           112159.0   \n",
            "\n",
            "     _30_mbps     otros      total  \n",
            "0   4068292.0  125147.0  5044557.0  \n",
            "20   579118.0   16168.0   918588.0  \n",
            "24  4042646.0   93351.0  5011620.0  \n",
            "44   557629.0   16426.0   909501.0  \n",
            "48  3951660.0  122762.0  4968237.0  \n",
            "Columna: _10_mbps__20_mbps, Outliers encontrados: 126\n",
            "     año  trimestre     provincia  hasta_512_kbps  _512_kbps__1_mbps  \\\n",
            "0   2024          1  Buenos Aires         26002.0            22510.0   \n",
            "24  2024          4  Buenos Aires         26909.0            23962.0   \n",
            "48  2023          3  Buenos Aires         27440.0            24820.0   \n",
            "68  2023          3      Santa Fe           468.0             7174.0   \n",
            "72  2023          2  Buenos Aires         28007.0            24674.0   \n",
            "\n",
            "    _1_mbps__6_mbps  _6_mbps__10_mbps  _10_mbps__20_mbps  _20_mbps__30_mbps  \\\n",
            "0          221185.0          233225.0           241778.0           106418.0   \n",
            "24         228393.0          239339.0           246144.0           110876.0   \n",
            "48         242010.0          241310.0           246076.0           112159.0   \n",
            "68          85897.0          168711.0            65489.0            20333.0   \n",
            "72         246067.0          253078.0           245505.0           107502.0   \n",
            "\n",
            "     _30_mbps     otros      total  \n",
            "0   4068292.0  125147.0  5044557.0  \n",
            "24  4042646.0   93351.0  5011620.0  \n",
            "48  3951660.0  122762.0  4968237.0  \n",
            "68   534474.0   17806.0   900352.0  \n",
            "72  3883235.0   97420.0  4885488.0  \n",
            "Columna: _20_mbps__30_mbps, Outliers encontrados: 125\n",
            "     año  trimestre     provincia  hasta_512_kbps  _512_kbps__1_mbps  \\\n",
            "0   2024          1  Buenos Aires         26002.0            22510.0   \n",
            "5   2024          1       Córdoba            99.0             8056.0   \n",
            "18  2024          1      San Luis            60.0              628.0   \n",
            "20  2024          1      Santa Fe           468.0             6417.0   \n",
            "24  2024          4  Buenos Aires         26909.0            23962.0   \n",
            "\n",
            "    _1_mbps__6_mbps  _6_mbps__10_mbps  _10_mbps__20_mbps  _20_mbps__30_mbps  \\\n",
            "0          221185.0          233225.0           241778.0           106418.0   \n",
            "5          110371.0           87798.0            47085.0            29939.0   \n",
            "18          11318.0           23754.0             8953.0            70855.0   \n",
            "20          76294.0          153030.0            58595.0            28498.0   \n",
            "24         228393.0          239339.0           246144.0           110876.0   \n",
            "\n",
            "     _30_mbps     otros      total  \n",
            "0   4068292.0  125147.0  5044557.0  \n",
            "5    784141.0   14710.0  1082199.0  \n",
            "18    34554.0    5968.0   156090.0  \n",
            "20   579118.0   16168.0   918588.0  \n",
            "24  4042646.0   93351.0  5011620.0  \n",
            "Columna: _30_mbps, Outliers encontrados: 131\n",
            "    año  trimestre        provincia  hasta_512_kbps  _512_kbps__1_mbps  \\\n",
            "0  2024          1     Buenos Aires         26002.0            22510.0   \n",
            "1  2024          1  Capital Federal           516.0             5418.0   \n",
            "3  2024          1            Chaco           236.0              416.0   \n",
            "5  2024          1          Córdoba            99.0             8056.0   \n",
            "6  2024          1       Corrientes            67.0             2690.0   \n",
            "\n",
            "   _1_mbps__6_mbps  _6_mbps__10_mbps  _10_mbps__20_mbps  _20_mbps__30_mbps  \\\n",
            "0         221185.0          233225.0           241778.0           106418.0   \n",
            "1          29753.0           51415.0            37369.0             5957.0   \n",
            "3          14156.0            9044.0             5533.0             5718.0   \n",
            "5         110371.0           87798.0            47085.0            29939.0   \n",
            "6          18637.0           16530.0             7680.0             1996.0   \n",
            "\n",
            "    _30_mbps     otros      total  \n",
            "0  4068292.0  125147.0  5044557.0  \n",
            "1  1374283.0       0.0  1504711.0  \n",
            "3   116624.0    3816.0   155543.0  \n",
            "5   784141.0   14710.0  1082199.0  \n",
            "6   104052.0    6242.0   157894.0  \n",
            "Columna: otros, Outliers encontrados: 115\n",
            "     año  trimestre     provincia  hasta_512_kbps  _512_kbps__1_mbps  \\\n",
            "0   2024          1  Buenos Aires         26002.0            22510.0   \n",
            "4   2024          1        Chubut           111.0             1083.0   \n",
            "14  2024          1       Neuquén           136.0              997.0   \n",
            "17  2024          1      San Juan            24.0             2021.0   \n",
            "19  2024          1    Santa Cruz            50.0              427.0   \n",
            "\n",
            "    _1_mbps__6_mbps  _6_mbps__10_mbps  _10_mbps__20_mbps  _20_mbps__30_mbps  \\\n",
            "0          221185.0          233225.0           241778.0           106418.0   \n",
            "4           43828.0           31885.0            23024.0            20261.0   \n",
            "14          35382.0           13482.0            10491.0             2934.0   \n",
            "17          22045.0           13030.0            11597.0             1343.0   \n",
            "19           7764.0            9577.0             7182.0             7070.0   \n",
            "\n",
            "     _30_mbps     otros      total  \n",
            "0   4068292.0  125147.0  5044557.0  \n",
            "4     33844.0   16640.0   170676.0  \n",
            "14    80656.0   20168.0   164246.0  \n",
            "17    33851.0   22755.0   106666.0  \n",
            "19    14335.0   33803.0    80208.0  \n",
            "Columna: total, Outliers encontrados: 163\n",
            "     año  trimestre        provincia  hasta_512_kbps  _512_kbps__1_mbps  \\\n",
            "0   2024          1     Buenos Aires         26002.0            22510.0   \n",
            "1   2024          1  Capital Federal           516.0             5418.0   \n",
            "5   2024          1          Córdoba            99.0             8056.0   \n",
            "20  2024          1         Santa Fe           468.0             6417.0   \n",
            "24  2024          4     Buenos Aires         26909.0            23962.0   \n",
            "\n",
            "    _1_mbps__6_mbps  _6_mbps__10_mbps  _10_mbps__20_mbps  _20_mbps__30_mbps  \\\n",
            "0          221185.0          233225.0           241778.0           106418.0   \n",
            "1           29753.0           51415.0            37369.0             5957.0   \n",
            "5          110371.0           87798.0            47085.0            29939.0   \n",
            "20          76294.0          153030.0            58595.0            28498.0   \n",
            "24         228393.0          239339.0           246144.0           110876.0   \n",
            "\n",
            "     _30_mbps     otros      total  \n",
            "0   4068292.0  125147.0  5044557.0  \n",
            "1   1374283.0       0.0  1504711.0  \n",
            "5    784141.0   14710.0  1082199.0  \n",
            "20   579118.0   16168.0   918588.0  \n",
            "24  4042646.0   93351.0  5011620.0  \n",
            "###################################################################\n",
            "Hoja: Accesos_tecnologia_localidad\n",
            "Columna: adsl, Outliers encontrados: 593\n",
            "       provincia     partido                                 localidad  \\\n",
            "0   BUENOS AIRES  25 de Mayo                                25 de Mayo   \n",
            "1   BUENOS AIRES  25 de Mayo                                 Del Valle   \n",
            "8   BUENOS AIRES  9 de Julio                                9 de Julio   \n",
            "9   BUENOS AIRES  9 de Julio  Alfredo Demarchi  (Est. Facundo Quiroga)   \n",
            "11  BUENOS AIRES  9 de Julio           Manuel B. Gonnet  (Est. French)   \n",
            "\n",
            "   link_indec  adsl  cablemodem  dial_up  fibra_optica  otros  satelital  \\\n",
            "0     6854100   755        4600        0             2      0        742   \n",
            "1     6854020   181           0        0             0     10          1   \n",
            "8     6588100  4241        3553       80          6238      0          0   \n",
            "9     6588010   450           0        0             0     60          0   \n",
            "11    6588060   193           0        0             2      2          0   \n",
            "\n",
            "    wimax  wireless  total_general  \n",
            "0       0       727           6826  \n",
            "1       0         0            192  \n",
            "8       0       831          14943  \n",
            "9       0         0            510  \n",
            "11      0         0            197  \n",
            "Columna: cablemodem, Outliers encontrados: 745\n",
            "       provincia          partido               localidad link_indec  adsl  \\\n",
            "0   BUENOS AIRES       25 de Mayo              25 de Mayo    6854100   755   \n",
            "3   BUENOS AIRES       25 de Mayo  Norberto de la Riestra    6854060     0   \n",
            "8   BUENOS AIRES       9 de Julio              9 de Julio    6588100  4241   \n",
            "28  BUENOS AIRES  Almirante Brown                 Adrogué    6028010    86   \n",
            "29  BUENOS AIRES  Almirante Brown                 Burzaco    6028010    39   \n",
            "\n",
            "    cablemodem  dial_up  fibra_optica  otros  satelital  wimax  wireless  \\\n",
            "0         4600        0             2      0        742      0       727   \n",
            "3          782        0           496     16          0      0       185   \n",
            "8         3553       80          6238      0          0      0       831   \n",
            "28        9355       53         12087     91          1      0        26   \n",
            "29       16766       35         12073     14          2      0       309   \n",
            "\n",
            "    total_general  \n",
            "0            6826  \n",
            "3            1479  \n",
            "8           14943  \n",
            "28          21699  \n",
            "29          29238  \n",
            "Columna: dial_up, Outliers encontrados: 374\n",
            "       provincia                 partido  \\\n",
            "8   BUENOS AIRES              9 de Julio   \n",
            "15  BUENOS AIRES           Adolfo Alsina   \n",
            "20  BUENOS AIRES  Adolfo Gonzales Chaves   \n",
            "24  BUENOS AIRES                 Alberti   \n",
            "28  BUENOS AIRES         Almirante Brown   \n",
            "\n",
            "                                localidad link_indec  adsl  cablemodem  \\\n",
            "8                              9 de Julio    6588100  4241        3553   \n",
            "15                                 Carhué    6007010   766           0   \n",
            "20  Adolfo Gonzales Chaves  (Est. Chaves)    6014010   464           0   \n",
            "24     Alberti   (Est. Andrés Vaccarezza)    6021010   335           0   \n",
            "28                                Adrogué    6028010    86        9355   \n",
            "\n",
            "    dial_up  fibra_optica  otros  satelital  wimax  wireless  total_general  \n",
            "8        80          6238      0          0      0       831          14943  \n",
            "15        1          1417      1          0      0      1066           3251  \n",
            "20        2           943      0          0      0       690           2099  \n",
            "24        6             1      0          0      0         2            344  \n",
            "28       53         12087     91          1      0        26          21699  \n",
            "Columna: fibra_optica, Outliers encontrados: 607\n",
            "       provincia                 partido  \\\n",
            "3   BUENOS AIRES              25 de Mayo   \n",
            "8   BUENOS AIRES              9 de Julio   \n",
            "15  BUENOS AIRES           Adolfo Alsina   \n",
            "17  BUENOS AIRES           Adolfo Alsina   \n",
            "20  BUENOS AIRES  Adolfo Gonzales Chaves   \n",
            "\n",
            "                                localidad link_indec  adsl  cablemodem  \\\n",
            "3                  Norberto de la Riestra    6854060     0         782   \n",
            "8                              9 de Julio    6588100  4241        3553   \n",
            "15                                 Carhué    6007010   766           0   \n",
            "17                                 Rivera    6007080     0           0   \n",
            "20  Adolfo Gonzales Chaves  (Est. Chaves)    6014010   464           0   \n",
            "\n",
            "    dial_up  fibra_optica  otros  satelital  wimax  wireless  total_general  \n",
            "3         0           496     16          0      0       185           1479  \n",
            "8        80          6238      0          0      0       831          14943  \n",
            "15        1          1417      1          0      0      1066           3251  \n",
            "17        0          1253      0          0      0         0           1253  \n",
            "20        2           943      0          0      0       690           2099  \n",
            "Columna: otros, Outliers encontrados: 640\n",
            "       provincia     partido                                 localidad  \\\n",
            "1   BUENOS AIRES  25 de Mayo                                 Del Valle   \n",
            "3   BUENOS AIRES  25 de Mayo                    Norberto de la Riestra   \n",
            "6   BUENOS AIRES  25 de Mayo                                Pedernales   \n",
            "9   BUENOS AIRES  9 de Julio  Alfredo Demarchi  (Est. Facundo Quiroga)   \n",
            "11  BUENOS AIRES  9 de Julio           Manuel B. Gonnet  (Est. French)   \n",
            "\n",
            "   link_indec  adsl  cablemodem  dial_up  fibra_optica  otros  satelital  \\\n",
            "1     6854020   181           0        0             0     10          1   \n",
            "3     6854060     0         782        0           496     16          0   \n",
            "6     6854070   154           0        0            25     21          0   \n",
            "9     6588010   450           0        0             0     60          0   \n",
            "11    6588060   193           0        0             2      2          0   \n",
            "\n",
            "    wimax  wireless  total_general  \n",
            "1       0         0            192  \n",
            "3       0       185           1479  \n",
            "6       0         7            207  \n",
            "9       0         0            510  \n",
            "11      0         0            197  \n",
            "Columna: satelital, Outliers encontrados: 188\n",
            "       provincia          partido        localidad link_indec  adsl  \\\n",
            "0   BUENOS AIRES       25 de Mayo       25 de Mayo    6854100   755   \n",
            "39  BUENOS AIRES  Almirante Brown         San Jose    6028010     2   \n",
            "43  BUENOS AIRES       Avellaneda       Avellaneda    6035010   903   \n",
            "58  BUENOS AIRES     Bahía Blanca     Bahía Blanca    6056010  3774   \n",
            "61  BUENOS AIRES     Bahía Blanca  Ingeniero White    6056020     0   \n",
            "\n",
            "    cablemodem  dial_up  fibra_optica  otros  satelital  wimax  wireless  \\\n",
            "0         4600        0             2      0        742      0       727   \n",
            "39        9013        1          1166      1          3      0         1   \n",
            "43        8577       46          7442    168          8      0        79   \n",
            "58      103360      388         14732     64          8      0      2764   \n",
            "61           0        0             1      0          3      0         0   \n",
            "\n",
            "    total_general  \n",
            "0            6826  \n",
            "39          10187  \n",
            "43          17223  \n",
            "58         125090  \n",
            "61              4  \n",
            "Columna: wimax, Outliers encontrados: 14\n",
            "        provincia    partido                      localidad link_indec  adsl  \\\n",
            "146  BUENOS AIRES  Chascomús  Manuel J. Cobo  (Est. Lezama)    6217020    98   \n",
            "179  BUENOS AIRES    Dolores                        Dolores    6238010  1045   \n",
            "330  BUENOS AIRES      Junín                     Laplacette    6413060     0   \n",
            "438  BUENOS AIRES  Magdalena                      Magdalena    6505040   604   \n",
            "540  BUENOS AIRES      Pilar                          Pilar    6638040  2211   \n",
            "\n",
            "     cablemodem  dial_up  fibra_optica  otros  satelital  wimax  wireless  \\\n",
            "146        2000        0             2      0          0    444         0   \n",
            "179       10677        1           531      0          0    325         0   \n",
            "330           0        0             1      0          0     16         0   \n",
            "438           0        1          3131      0          0    437       199   \n",
            "540       28809       33         14046   1705          4     90       627   \n",
            "\n",
            "     total_general  \n",
            "146           2544  \n",
            "179          12579  \n",
            "330             17  \n",
            "438           4372  \n",
            "540          47525  \n",
            "Columna: wireless, Outliers encontrados: 409\n",
            "       provincia                 partido  \\\n",
            "0   BUENOS AIRES              25 de Mayo   \n",
            "8   BUENOS AIRES              9 de Julio   \n",
            "10  BUENOS AIRES              9 de Julio   \n",
            "15  BUENOS AIRES           Adolfo Alsina   \n",
            "20  BUENOS AIRES  Adolfo Gonzales Chaves   \n",
            "\n",
            "                                localidad link_indec  adsl  cablemodem  \\\n",
            "0                              25 de Mayo    6854100   755        4600   \n",
            "8                              9 de Julio    6588100  4241        3553   \n",
            "10                               Dudignac    6588040     0           0   \n",
            "15                                 Carhué    6007010   766           0   \n",
            "20  Adolfo Gonzales Chaves  (Est. Chaves)    6014010   464           0   \n",
            "\n",
            "    dial_up  fibra_optica  otros  satelital  wimax  wireless  total_general  \n",
            "0         0             2      0        742      0       727           6826  \n",
            "8        80          6238      0          0      0       831          14943  \n",
            "10        0             0      0          0      0       474            474  \n",
            "15        1          1417      1          0      0      1066           3251  \n",
            "20        2           943      0          0      0       690           2099  \n",
            "Columna: total_general, Outliers encontrados: 508\n",
            "       provincia          partido   localidad link_indec  adsl  cablemodem  \\\n",
            "0   BUENOS AIRES       25 de Mayo  25 de Mayo    6854100   755        4600   \n",
            "8   BUENOS AIRES       9 de Julio  9 de Julio    6588100  4241        3553   \n",
            "15  BUENOS AIRES    Adolfo Alsina      Carhué    6007010   766           0   \n",
            "28  BUENOS AIRES  Almirante Brown     Adrogué    6028010    86        9355   \n",
            "29  BUENOS AIRES  Almirante Brown     Burzaco    6028010    39       16766   \n",
            "\n",
            "    dial_up  fibra_optica  otros  satelital  wimax  wireless  total_general  \n",
            "0         0             2      0        742      0       727           6826  \n",
            "8        80          6238      0          0      0       831          14943  \n",
            "15        1          1417      1          0      0      1066           3251  \n",
            "28       53         12087     91          1      0        26          21699  \n",
            "29       35         12073     14          2      0       309          29238  \n",
            "###################################################################\n",
            "Hoja: Ingresos \n",
            "Columna: año, Outliers encontrados: 0\n",
            "Columna: trimestre, Outliers encontrados: 0\n",
            "Columna: ingresos_miles_de_pesos, Outliers encontrados: 5\n",
            "    año  trimestre  ingresos_miles_de_pesos    periodo\n",
            "0  2024          1             2.804191e+08 2024-03-31\n",
            "1  2023          4             1.673760e+08 2023-12-31\n",
            "2  2023          3             1.331066e+08 2023-09-30\n",
            "3  2023          2             1.180603e+08 2023-06-30\n",
            "4  2023          1             1.041350e+08 2023-03-31\n",
            "###################################################################\n"
          ]
        }
      ]
    },
    {
      "cell_type": "markdown",
      "source": [
        "### 5.1. Hoja `Penetracion-hogares`"
      ],
      "metadata": {
        "id": "zj0VKyvGw7Iw"
      }
    },
    {
      "cell_type": "markdown",
      "source": [
        "En la columna `Accesos por cada 100 hogares`, los outliers están asociados a la provincia Capital Federal, que tiene un acceso a internet mucho más alto que otras provincias.\n"
      ],
      "metadata": {
        "id": "GSLQ_KU5xGJn"
      }
    },
    {
      "cell_type": "markdown",
      "source": [
        "Estos outliers reflejan una diferencia real, ya que es razonable esperar que en Capital Federal, al ser un área urbana con mejor infraestructura, los accesos a internet sean significativamente más altos."
      ],
      "metadata": {
        "id": "N1loFSiuxejD"
      }
    },
    {
      "cell_type": "markdown",
      "source": [
        "### 5.2. Hoja `Accesos por velocidad`"
      ],
      "metadata": {
        "id": "-OGJAUnxxjIC"
      }
    },
    {
      "cell_type": "markdown",
      "source": [
        "Varias columnas presentan outliers:\n",
        "\n",
        "* `HASTA 512 kbps`, `+ 512 Kbps - 1 Mbps`, `+ 1 Mbps - 6 Mbps`, etc.: Estos outliers parecen estar concentrados en provincias grandes como Buenos Aires, con una gran cantidad de accesos. Estos outliers podrían ser útiles para detectar diferencias regionales en el acceso a internet.\n",
        "\n",
        "* También se pueden apreciar outliers en provincias más pequeñas, como Santa Fe, que reflejan un patrón interesante que podría analizarse más adelante."
      ],
      "metadata": {
        "id": "ORXgl7J4xxny"
      }
    },
    {
      "cell_type": "markdown",
      "source": [
        "### 5.3. Hoja `Accesos_tecnologia_localidad`"
      ],
      "metadata": {
        "id": "SQv2TaF-yUm9"
      }
    },
    {
      "cell_type": "markdown",
      "source": [
        "Outliers en casi todas las columnas (`ADSL`, `Cablemódem`, `DIAL UP`, entre otras):\n",
        "Los outliers indican localidades con muy altos o muy bajos accesos para cada tecnología. Estas diferencias podrían ser clave para entender patrones tecnológicos en diferentes regiones."
      ],
      "metadata": {
        "id": "PYEqSIRxycOq"
      }
    },
    {
      "cell_type": "markdown",
      "source": [
        "### 5.4. Hoja `Ingresos`"
      ],
      "metadata": {
        "id": "n9W-9lJbyx3q"
      }
    },
    {
      "cell_type": "markdown",
      "source": [
        "* Columna `Año`: Hay un outlier donde el año es 2033 seguramente es un error tipográfico. Podríamos corregir este valor a 2023 para mantener la consistencia.\n",
        "\n",
        "* Columna `Ingresos` (miles de pesos): Los outliers corresponden a ingresos significativamente más altos en trimestres recientes. Estos outiers probablemente reflejan un crecimiento real en la industria de las telecomunicaciones."
      ],
      "metadata": {
        "id": "DNbwflsdy3CR"
      }
    },
    {
      "cell_type": "code",
      "source": [
        "# Corregimos el año 2033 en la hoja 'Ingresos'\n",
        "dataframes_hojas['Ingresos '].loc[dataframes_hojas['Ingresos ']['Año'] == 2033, 'Año'] = 2023\n"
      ],
      "metadata": {
        "id": "BW1FvLbQzhhy"
      },
      "execution_count": null,
      "outputs": []
    },
    {
      "cell_type": "markdown",
      "source": [
        "## **6. Transformación de los datos**"
      ],
      "metadata": {
        "id": "YLsQcjfez5xO"
      }
    },
    {
      "cell_type": "markdown",
      "source": [
        "### 6.1. Revisión de formatos de fechas"
      ],
      "metadata": {
        "id": "bsxlob_l0FyQ"
      }
    },
    {
      "cell_type": "markdown",
      "source": [
        "Para poder verificar si tenemos columnas con información de fechas en todas las hojas del dataset, podemos buscar las columnas que contengan datos relacionados con fechas (en este caso, aquellas que podrían contener el año, mes o periodo) y revisar si están en el formato correcto. Para ello creamos la siguiente función"
      ],
      "metadata": {
        "id": "n2KY_KM41E54"
      }
    },
    {
      "cell_type": "code",
      "source": [
        "# Función para identificar columnas que podrían contener fechas\n",
        "def revisar_columnas_fechas(df):\n",
        "    \"\"\"\n",
        "    Identifica columnas en un DataFrame que potencialmente contienen fechas basándose en los nombres de las columnas.\n",
        "\n",
        "    Parámetros:\n",
        "    df (pandas.DataFrame): El DataFrame que contiene los datos.\n",
        "\n",
        "    Retorna:\n",
        "    dict: Un diccionario donde las claves son los nombres de las columnas potencialmente relacionadas con fechas,\n",
        "    y los valores indican si el formato es correcto (es decir, ya es un formato de fecha) o si necesita conversión.\n",
        "\n",
        "    El criterio para identificar columnas de fechas es revisar si en el nombre de la columna aparece 'fecha', 'periodo'\n",
        "    o 'año'. Luego, se intenta convertir los valores de esas columnas al formato datetime para verificar su validez.\n",
        "    \"\"\"\n",
        "    # Identificar columnas que potencialmente contengan fechas: aquellas con 'fecha', 'periodo' o 'año' en su nombre\n",
        "    columnas_potenciales_fechas = [col for col in df.columns if 'fecha' in col.lower() or 'periodo' in col.lower() or 'año' in col.lower()]\n",
        "\n",
        "    # Verificar si las columnas ya están en formato de fecha o si necesitan conversión\n",
        "    verificacion_fechas = {}\n",
        "    for columna in columnas_potenciales_fechas:\n",
        "        # Intentar convertir a datetime y verificar si hay errores\n",
        "        try:\n",
        "            pd.to_datetime(df[columna], errors='raise')\n",
        "            verificacion_fechas[columna] = 'Formato de fecha correcto'\n",
        "        except:\n",
        "            verificacion_fechas[columna] = 'Formato incorrecto o texto'\n",
        "\n",
        "    return verificacion_fechas\n"
      ],
      "metadata": {
        "id": "XEDZsqQi1mZr"
      },
      "execution_count": null,
      "outputs": []
    },
    {
      "cell_type": "code",
      "source": [
        "# Verificamos todas las hojas para identificar posibles columnas de fechas\n",
        "for hoja, df in dataframes_hojas.items():\n",
        "    print(f\"Verificando fechas en la hoja: {hoja}\")\n",
        "    result = revisar_columnas_fechas(df)  # Usamos la función que creamos\n",
        "    if result:\n",
        "        print(result)\n",
        "    else:\n",
        "        print(\"No se encontraron columnas relacionadas con fechas.\")\n",
        "    print(\"###################################################################\")\n"
      ],
      "metadata": {
        "colab": {
          "base_uri": "https://localhost:8080/"
        },
        "id": "RmNMVVZq14Yq",
        "outputId": "a429fd0c-0f55-4ee5-c2e3-058a309a1f0f"
      },
      "execution_count": null,
      "outputs": [
        {
          "output_type": "stream",
          "name": "stdout",
          "text": [
            "Verificando fechas en la hoja: Penetracion-hogares\n",
            "{'Año': 'Formato de fecha correcto'}\n",
            "###################################################################\n",
            "Verificando fechas en la hoja: Accesos por velocidad\n",
            "{'Año': 'Formato de fecha correcto'}\n",
            "###################################################################\n",
            "Verificando fechas en la hoja: Accesos_tecnologia_localidad\n",
            "No se encontraron columnas relacionadas con fechas.\n",
            "###################################################################\n",
            "Verificando fechas en la hoja: Ingresos \n",
            "{'Año': 'Formato de fecha correcto', 'Periodo': 'Formato incorrecto o texto'}\n",
            "###################################################################\n"
          ]
        },
        {
          "output_type": "stream",
          "name": "stderr",
          "text": [
            "<ipython-input-114-c387c5440ad9>:24: UserWarning: Could not infer format, so each element will be parsed individually, falling back to `dateutil`. To ensure parsing is consistent and as-expected, please specify a format.\n",
            "  pd.to_datetime(df[columna], errors='raise')\n"
          ]
        }
      ]
    },
    {
      "cell_type": "markdown",
      "source": [
        "En la hoja de `Ingresos`, la columna `Periodo` contiene información de fechas como texto. Vamos a convertirla a un formato de fecha adecuado:"
      ],
      "metadata": {
        "id": "4vA75llC6rbN"
      }
    },
    {
      "cell_type": "code",
      "source": [
        "# Revisamos el formato de fecha que tiene periodo\n",
        "dataframes_hojas['Ingresos ']['Periodo'].head()"
      ],
      "metadata": {
        "colab": {
          "base_uri": "https://localhost:8080/"
        },
        "id": "obxcm-PO59r3",
        "outputId": "3f506e89-7069-4832-ee62-30af644ba490"
      },
      "execution_count": null,
      "outputs": [
        {
          "output_type": "execute_result",
          "data": {
            "text/plain": [
              "0     Ene-Mar 2024\n",
              "1     Oct-Dic 2023\n",
              "2    Jul-Sept 2023\n",
              "3     Jun-Mar 2023\n",
              "4     Ene-Mar 2023\n",
              "Name: Periodo, dtype: object"
            ],
            "text/html": [
              "<div>\n",
              "<style scoped>\n",
              "    .dataframe tbody tr th:only-of-type {\n",
              "        vertical-align: middle;\n",
              "    }\n",
              "\n",
              "    .dataframe tbody tr th {\n",
              "        vertical-align: top;\n",
              "    }\n",
              "\n",
              "    .dataframe thead th {\n",
              "        text-align: right;\n",
              "    }\n",
              "</style>\n",
              "<table border=\"1\" class=\"dataframe\">\n",
              "  <thead>\n",
              "    <tr style=\"text-align: right;\">\n",
              "      <th></th>\n",
              "      <th>Periodo</th>\n",
              "    </tr>\n",
              "  </thead>\n",
              "  <tbody>\n",
              "    <tr>\n",
              "      <th>0</th>\n",
              "      <td>Ene-Mar 2024</td>\n",
              "    </tr>\n",
              "    <tr>\n",
              "      <th>1</th>\n",
              "      <td>Oct-Dic 2023</td>\n",
              "    </tr>\n",
              "    <tr>\n",
              "      <th>2</th>\n",
              "      <td>Jul-Sept 2023</td>\n",
              "    </tr>\n",
              "    <tr>\n",
              "      <th>3</th>\n",
              "      <td>Jun-Mar 2023</td>\n",
              "    </tr>\n",
              "    <tr>\n",
              "      <th>4</th>\n",
              "      <td>Ene-Mar 2023</td>\n",
              "    </tr>\n",
              "  </tbody>\n",
              "</table>\n",
              "</div><br><label><b>dtype:</b> object</label>"
            ]
          },
          "metadata": {},
          "execution_count": 116
        }
      ]
    },
    {
      "cell_type": "markdown",
      "source": [
        "Los datos de texto en la columna `Periodo` están en un formato mixto con abreviaciones de meses y trimestres (por ejemplo, \"Ene-Mar 2024\" o \"Jul-Sept 2023\"). Necesitamos transformar manualmente estas cadenas de texto en un formato que `pd.to_datetime()` pueda reconocer."
      ],
      "metadata": {
        "id": "rNgovhyY2qL6"
      }
    },
    {
      "cell_type": "code",
      "source": [
        "# Creamos una función para mapear los meses de texto a un rango adecuado de fechas (trimestres)\n",
        "def convertir_periodo_a_fecha(periodo_str):\n",
        "    # Diccionario de traducción de abreviaciones de meses\n",
        "    trimestre_a_fecha = {\n",
        "        'Ene-Mar': '-03-31',\n",
        "        'Abr-Jun': '-06-30',\n",
        "        'Jul-Sept': '-09-30',\n",
        "        'Oct-Dic': '-12-31',\n",
        "    }\n",
        "\n",
        "    # Dividir el texto en mes y año\n",
        "    for trimestre, fecha in trimestre_a_fecha.items():\n",
        "        if trimestre in periodo_str:\n",
        "            # Extraer el año\n",
        "            year = periodo_str.split()[-1]\n",
        "            # Construir la fecha\n",
        "            return pd.to_datetime(year + fecha, format='%Y-%m-%d')\n",
        "\n",
        "    return pd.NaT  # Si no se reconoce el formato, devolver NaT (nulo)\n"
      ],
      "metadata": {
        "id": "IwHJKeGF7SCT"
      },
      "execution_count": null,
      "outputs": []
    },
    {
      "cell_type": "code",
      "source": [
        "# Aplicamos la función a la columna 'Periodo' en la hoja 'Ingresos'\n",
        "dataframes_hojas['Ingresos ']['Periodo'] = dataframes_hojas['Ingresos ']['Periodo'].apply(convertir_periodo_a_fecha)"
      ],
      "metadata": {
        "id": "FOGwbPLI7dYi"
      },
      "execution_count": null,
      "outputs": []
    },
    {
      "cell_type": "code",
      "source": [
        "# Verificamos si la conversión fue exitosa\n",
        "dataframes_hojas['Ingresos ']['Periodo'].head()\n"
      ],
      "metadata": {
        "colab": {
          "base_uri": "https://localhost:8080/"
        },
        "id": "QX4HTANI3M6K",
        "outputId": "96efce7d-1e5d-4cc7-8ea1-a7d8a5256589"
      },
      "execution_count": null,
      "outputs": [
        {
          "output_type": "execute_result",
          "data": {
            "text/plain": [
              "0   2024-03-31\n",
              "1   2023-12-31\n",
              "2   2023-09-30\n",
              "3          NaT\n",
              "4   2023-03-31\n",
              "Name: Periodo, dtype: datetime64[ns]"
            ],
            "text/html": [
              "<div>\n",
              "<style scoped>\n",
              "    .dataframe tbody tr th:only-of-type {\n",
              "        vertical-align: middle;\n",
              "    }\n",
              "\n",
              "    .dataframe tbody tr th {\n",
              "        vertical-align: top;\n",
              "    }\n",
              "\n",
              "    .dataframe thead th {\n",
              "        text-align: right;\n",
              "    }\n",
              "</style>\n",
              "<table border=\"1\" class=\"dataframe\">\n",
              "  <thead>\n",
              "    <tr style=\"text-align: right;\">\n",
              "      <th></th>\n",
              "      <th>Periodo</th>\n",
              "    </tr>\n",
              "  </thead>\n",
              "  <tbody>\n",
              "    <tr>\n",
              "      <th>0</th>\n",
              "      <td>2024-03-31</td>\n",
              "    </tr>\n",
              "    <tr>\n",
              "      <th>1</th>\n",
              "      <td>2023-12-31</td>\n",
              "    </tr>\n",
              "    <tr>\n",
              "      <th>2</th>\n",
              "      <td>2023-09-30</td>\n",
              "    </tr>\n",
              "    <tr>\n",
              "      <th>3</th>\n",
              "      <td>NaT</td>\n",
              "    </tr>\n",
              "    <tr>\n",
              "      <th>4</th>\n",
              "      <td>2023-03-31</td>\n",
              "    </tr>\n",
              "  </tbody>\n",
              "</table>\n",
              "</div><br><label><b>dtype:</b> datetime64[ns]</label>"
            ]
          },
          "metadata": {},
          "execution_count": 119
        }
      ]
    },
    {
      "cell_type": "markdown",
      "source": [
        "El tipo de dato `datetime64[ns]` nos indica que la columna `Periodo` en la hoja `Ingresos` ya está en formato de fecha correctamente. Sin embargo tenemos un valor nulo, revisando notamos que hay iun error en ese trimerte, no es `Jun-Mar 2023`, si ni que debía ser `Abr-Jun 2023`."
      ],
      "metadata": {
        "id": "JE9Vj5UZ3mWu"
      }
    },
    {
      "cell_type": "code",
      "source": [
        "# Reemplazar el valor incorrecto \"Jun-Mar 2023\" por \"Abr-Jun 2023\" en la columna 'Periodo'\n",
        "dataframes_hojas['Ingresos ']['Periodo'] = dataframes_hojas['Ingresos ']['Periodo'].replace('Jun-Mar 2023', 'Abr-Jun 2023')\n",
        "\n",
        "# Reemplazamos el valor NaT con la fecha correcta \"2023-06-30\"\n",
        "dataframes_hojas['Ingresos ']['Periodo'].fillna(pd.Timestamp('2023-06-30'), inplace=True)\n",
        "\n",
        "# Verificamos los resultados finales\n",
        "dataframes_hojas['Ingresos ']['Periodo'].head()\n",
        "\n"
      ],
      "metadata": {
        "colab": {
          "base_uri": "https://localhost:8080/"
        },
        "id": "gM06Ptky9Lmp",
        "outputId": "4c0909c3-c454-4068-cb8b-791bf4692f8e"
      },
      "execution_count": null,
      "outputs": [
        {
          "output_type": "execute_result",
          "data": {
            "text/plain": [
              "0   2024-03-31\n",
              "1   2023-12-31\n",
              "2   2023-09-30\n",
              "3   2023-06-30\n",
              "4   2023-03-31\n",
              "Name: Periodo, dtype: datetime64[ns]"
            ],
            "text/html": [
              "<div>\n",
              "<style scoped>\n",
              "    .dataframe tbody tr th:only-of-type {\n",
              "        vertical-align: middle;\n",
              "    }\n",
              "\n",
              "    .dataframe tbody tr th {\n",
              "        vertical-align: top;\n",
              "    }\n",
              "\n",
              "    .dataframe thead th {\n",
              "        text-align: right;\n",
              "    }\n",
              "</style>\n",
              "<table border=\"1\" class=\"dataframe\">\n",
              "  <thead>\n",
              "    <tr style=\"text-align: right;\">\n",
              "      <th></th>\n",
              "      <th>Periodo</th>\n",
              "    </tr>\n",
              "  </thead>\n",
              "  <tbody>\n",
              "    <tr>\n",
              "      <th>0</th>\n",
              "      <td>2024-03-31</td>\n",
              "    </tr>\n",
              "    <tr>\n",
              "      <th>1</th>\n",
              "      <td>2023-12-31</td>\n",
              "    </tr>\n",
              "    <tr>\n",
              "      <th>2</th>\n",
              "      <td>2023-09-30</td>\n",
              "    </tr>\n",
              "    <tr>\n",
              "      <th>3</th>\n",
              "      <td>2023-06-30</td>\n",
              "    </tr>\n",
              "    <tr>\n",
              "      <th>4</th>\n",
              "      <td>2023-03-31</td>\n",
              "    </tr>\n",
              "  </tbody>\n",
              "</table>\n",
              "</div><br><label><b>dtype:</b> datetime64[ns]</label>"
            ]
          },
          "metadata": {},
          "execution_count": 120
        }
      ]
    },
    {
      "cell_type": "markdown",
      "source": [
        "### 6.2. Normalización de los nombres de las columas"
      ],
      "metadata": {
        "id": "R9rQQND936QJ"
      }
    },
    {
      "cell_type": "markdown",
      "source": [
        "Vamos a normalizar los nombres de columnas para evitar problemas en el análisis posterior evitando espacios o caracteres especiales."
      ],
      "metadata": {
        "id": "rlp_hvYh4Azp"
      }
    },
    {
      "cell_type": "code",
      "source": [
        "# Creamos una función para normalizar nombres de columnas\n",
        "def normaliza_nombres_columnas(df):\n",
        "    \"\"\"\n",
        "    Normaliza los nombres de las columnas en un DataFrame.\n",
        "\n",
        "    Esta función realiza los siguientes pasos en los nombres de las columnas:\n",
        "    - Elimina espacios en blanco al inicio y final.\n",
        "    - Convierte todas las letras a minúsculas.\n",
        "    - Reemplaza los espacios entre palabras con guiones bajos.\n",
        "    - Elimina caracteres no alfanuméricos.\n",
        "\n",
        "    Parámetros:\n",
        "    df (pandas.DataFrame): El DataFrame cuyas columnas se van a normalizar.\n",
        "\n",
        "    Retorna:\n",
        "    pandas.DataFrame: El DataFrame con los nombres de columnas normalizados.\n",
        "    \"\"\"\n",
        "    df.columns = df.columns.str.strip().str.lower().str.replace(' ', '_').str.replace(r'[^\\w]', '', regex=True)\n",
        "    return df"
      ],
      "metadata": {
        "id": "zpRWR_jY4n9e"
      },
      "execution_count": null,
      "outputs": []
    },
    {
      "cell_type": "code",
      "source": [
        "# Aplicamos la normalización a todas las hojas\n",
        "for hoja, df in dataframes_hojas.items():\n",
        "    normaliza_nombres_columnas(df)"
      ],
      "metadata": {
        "id": "keQTVMWp43NR"
      },
      "execution_count": null,
      "outputs": []
    },
    {
      "cell_type": "code",
      "source": [
        "# Verificamos algunos resultados\n",
        "for hoja, df in dataframes_hojas.items():\n",
        "    print(f\"Nombres de columnas en la hoja {hoja}:\")\n",
        "    print(df.columns)\n",
        "    print(\"###################################################################\")"
      ],
      "metadata": {
        "colab": {
          "base_uri": "https://localhost:8080/"
        },
        "id": "6uEE-HlK5o9u",
        "outputId": "c708d55e-86fd-47be-c647-37810279aaa0"
      },
      "execution_count": null,
      "outputs": [
        {
          "output_type": "stream",
          "name": "stdout",
          "text": [
            "Nombres de columnas en la hoja Penetracion-hogares:\n",
            "Index(['año', 'trimestre', 'provincia', 'accesos_por_cada_100_hogares'], dtype='object')\n",
            "###################################################################\n",
            "Nombres de columnas en la hoja Accesos por velocidad:\n",
            "Index(['año', 'trimestre', 'provincia', 'hasta_512_kbps', '_512_kbps__1_mbps',\n",
            "       '_1_mbps__6_mbps', '_6_mbps__10_mbps', '_10_mbps__20_mbps',\n",
            "       '_20_mbps__30_mbps', '_30_mbps', 'otros', 'total'],\n",
            "      dtype='object')\n",
            "###################################################################\n",
            "Nombres de columnas en la hoja Accesos_tecnologia_localidad:\n",
            "Index(['provincia', 'partido', 'localidad', 'link_indec', 'adsl', 'cablemodem',\n",
            "       'dial_up', 'fibra_optica', 'otros', 'satelital', 'wimax', 'wireless',\n",
            "       'total_general'],\n",
            "      dtype='object')\n",
            "###################################################################\n",
            "Nombres de columnas en la hoja Ingresos :\n",
            "Index(['año', 'trimestre', 'ingresos_miles_de_pesos', 'periodo'], dtype='object')\n",
            "###################################################################\n"
          ]
        }
      ]
    },
    {
      "cell_type": "markdown",
      "source": [
        " Como podemos apreciar los nombres de las columnas han sido normalizados correctamente, eliminando espacios, convirtiendo a minúsculas y reemplazando caracteres no alfanuméricos. Algunos ejemplos de la normalización son:\n",
        "\n",
        "* `Penetracion-hogares`: `accesos por cada 100 hogares` → `accesos_por_cada_100_hogares`\n",
        "* `Accesos por velocidad`: `+ 512 Kbps - 1 Mbps` → `_512_kbps__1_mbps`"
      ],
      "metadata": {
        "id": "kKcQS-va55Wh"
      }
    },
    {
      "cell_type": "markdown",
      "source": [
        "### 6.3. Formato correcto en las columnas numéricas"
      ],
      "metadata": {
        "id": "nkfGmUmf817B"
      }
    },
    {
      "cell_type": "markdown",
      "source": [
        "Vamos a revisar si las columnas que deberían contener valores numéricos están en el formato adecuado (`int` o `float`). Si encontramos alguna columna numérica que esté en formato de texto o que tenga valores no numéricos, podemos intentar convertirla al formato correcto."
      ],
      "metadata": {
        "id": "rbWCTOAl89Ye"
      }
    },
    {
      "cell_type": "code",
      "source": [
        "# Hacemos un listado de las columnas que deben permanecer como texto en cada hoja\n",
        "columnas_texto = {\n",
        "    'Penetracion-hogares': ['provincia'],\n",
        "    'Accesos por velocidad': ['provincia'],\n",
        "    'Accesos_tecnologia_localidad': ['provincia', 'partido', 'localidad', 'link_indec'],\n",
        "    'Ingresos ': []  # En este caso, todas las columnas deberían ser numéricas excepto 'Periodo', que ya está como fecha\n",
        "}"
      ],
      "metadata": {
        "id": "sRRKDGD4QTm1"
      },
      "execution_count": null,
      "outputs": []
    },
    {
      "cell_type": "code",
      "source": [
        "# Revisamos y convertimos las columnas numéricas a int o float si es necesario\n",
        "for hoja, df in dataframes_hojas.items():\n",
        "    print(f\"Revisando tipos de datos en la hoja: {hoja}\")\n",
        "\n",
        "    # Identificamos las columnas que deberían ser numéricas y no están en la lista de texto\n",
        "    columnas_a_convertir = df.select_dtypes(include=['object']).columns.difference(columnas_texto.get(hoja, []))\n",
        "\n",
        "    for col in columnas_a_convertir:\n",
        "        try:\n",
        "            # Intentamos convertir la columna a numérico (int o float)\n",
        "            df[col] = pd.to_numeric(df[col], errors='coerce')\n",
        "            print(f\"Columna {col} convertida exitosamente a formato numérico.\")\n",
        "        except Exception as e:\n",
        "            print(f\"Error al convertir la columna {col}: {e}\")\n",
        "\n",
        "    # Verificamos el tipo de dato final de cada columna\n",
        "    print(\"Tipos de datos finales:\")\n",
        "    print(df.dtypes)\n",
        "    print(\"###################################################################\")\n",
        "\n"
      ],
      "metadata": {
        "colab": {
          "base_uri": "https://localhost:8080/"
        },
        "id": "Yvqk9dgx9IPW",
        "outputId": "b66d9498-46ff-4806-dff7-4f54049b8956"
      },
      "execution_count": null,
      "outputs": [
        {
          "output_type": "stream",
          "name": "stdout",
          "text": [
            "Revisando tipos de datos en la hoja: Penetracion-hogares\n",
            "Tipos de datos finales:\n",
            "año                               int64\n",
            "trimestre                         int64\n",
            "provincia                        object\n",
            "accesos_por_cada_100_hogares    float64\n",
            "dtype: object\n",
            "###################################################################\n",
            "Revisando tipos de datos en la hoja: Accesos por velocidad\n",
            "Tipos de datos finales:\n",
            "año                    int64\n",
            "trimestre              int64\n",
            "provincia             object\n",
            "hasta_512_kbps       float64\n",
            "_512_kbps__1_mbps    float64\n",
            "_1_mbps__6_mbps      float64\n",
            "_6_mbps__10_mbps     float64\n",
            "_10_mbps__20_mbps    float64\n",
            "_20_mbps__30_mbps    float64\n",
            "_30_mbps             float64\n",
            "otros                float64\n",
            "total                float64\n",
            "dtype: object\n",
            "###################################################################\n",
            "Revisando tipos de datos en la hoja: Accesos_tecnologia_localidad\n",
            "Tipos de datos finales:\n",
            "provincia        object\n",
            "partido          object\n",
            "localidad        object\n",
            "link_indec       object\n",
            "adsl              int64\n",
            "cablemodem        int64\n",
            "dial_up           int64\n",
            "fibra_optica      int64\n",
            "otros             int64\n",
            "satelital         int64\n",
            "wimax             int64\n",
            "wireless          int64\n",
            "total_general     int64\n",
            "dtype: object\n",
            "###################################################################\n",
            "Revisando tipos de datos en la hoja: Ingresos \n",
            "Tipos de datos finales:\n",
            "año                                 int64\n",
            "trimestre                           int64\n",
            "ingresos_miles_de_pesos           float64\n",
            "periodo                    datetime64[ns]\n",
            "dtype: object\n",
            "###################################################################\n"
          ]
        }
      ]
    },
    {
      "cell_type": "markdown",
      "source": [
        "Ahora las columnas están correctamente formateadas:\n",
        "\n",
        "* Las columnas `provincia`, `partido`, `localidad` y `link_indec` permanecen con el formato texto (`object`), que es el tipo de dato correcto para esas columnas.\n",
        "\n",
        "* Las columnas numéricas en todas las hojas están en formato `int` o `float`, según corresponda.\n",
        "\n",
        "* La columna `periodo` en la hoja `Ingresos` está en formato de fecha (`datetime64[ns]`), que también es correcto."
      ],
      "metadata": {
        "id": "X_vCITUJ-JGs"
      }
    },
    {
      "cell_type": "markdown",
      "source": [
        "Con estas pasos, hemos finalizado la etapa de transformación de datos, asegurándonos de que todos los valores estén en los formatos adecuados. Ahora los datos están completamente preparados para el análisis."
      ],
      "metadata": {
        "id": "DGJDi5fD-hnx"
      }
    },
    {
      "cell_type": "code",
      "source": [
        "# Crea un archivo ExcelWriter para guardar los DataFrames en diferentes hojas\n",
        "#with pd.ExcelWriter('dataframes_hojas.xlsx') as writer:\n",
        "  # Itera sobre el diccionario de DataFrames\n",
        "  #for hoja, df in dataframes_hojas.items():\n",
        "    # Guarda cada DataFrame en una hoja diferente del archivo Excel\n",
        "    #df.to_excel(writer, sheet_name=hoja, index=False)\n",
        "\n",
        "# Descarga el archivo .xlsx\n",
        "#from google.colab import files\n",
        "#files.download('dataframes_hojas.xlsx')\n"
      ],
      "metadata": {
        "colab": {
          "base_uri": "https://localhost:8080/",
          "height": 17
        },
        "id": "Nd7RUwET2U-0",
        "outputId": "116f10da-e22f-4cb5-f7c6-62e68d90f901"
      },
      "execution_count": null,
      "outputs": [
        {
          "output_type": "display_data",
          "data": {
            "text/plain": [
              "<IPython.core.display.Javascript object>"
            ],
            "application/javascript": [
              "\n",
              "    async function download(id, filename, size) {\n",
              "      if (!google.colab.kernel.accessAllowed) {\n",
              "        return;\n",
              "      }\n",
              "      const div = document.createElement('div');\n",
              "      const label = document.createElement('label');\n",
              "      label.textContent = `Downloading \"${filename}\": `;\n",
              "      div.appendChild(label);\n",
              "      const progress = document.createElement('progress');\n",
              "      progress.max = size;\n",
              "      div.appendChild(progress);\n",
              "      document.body.appendChild(div);\n",
              "\n",
              "      const buffers = [];\n",
              "      let downloaded = 0;\n",
              "\n",
              "      const channel = await google.colab.kernel.comms.open(id);\n",
              "      // Send a message to notify the kernel that we're ready.\n",
              "      channel.send({})\n",
              "\n",
              "      for await (const message of channel.messages) {\n",
              "        // Send a message to notify the kernel that we're ready.\n",
              "        channel.send({})\n",
              "        if (message.buffers) {\n",
              "          for (const buffer of message.buffers) {\n",
              "            buffers.push(buffer);\n",
              "            downloaded += buffer.byteLength;\n",
              "            progress.value = downloaded;\n",
              "          }\n",
              "        }\n",
              "      }\n",
              "      const blob = new Blob(buffers, {type: 'application/binary'});\n",
              "      const a = document.createElement('a');\n",
              "      a.href = window.URL.createObjectURL(blob);\n",
              "      a.download = filename;\n",
              "      div.appendChild(a);\n",
              "      a.click();\n",
              "      div.remove();\n",
              "    }\n",
              "  "
            ]
          },
          "metadata": {}
        },
        {
          "output_type": "display_data",
          "data": {
            "text/plain": [
              "<IPython.core.display.Javascript object>"
            ],
            "application/javascript": [
              "download(\"download_1ce05720-d46a-4371-bfd6-3a4594b806e3\", \"dataframes_hojas.xlsx\", 279742)"
            ]
          },
          "metadata": {}
        }
      ]
    }
  ]
}